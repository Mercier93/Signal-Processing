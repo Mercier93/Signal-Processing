{
 "cells": [
  {
   "cell_type": "markdown",
   "metadata": {
    "nbpresent": {
     "id": "767954b6-1d48-4172-846b-55de9c7a65d2"
    },
    "slideshow": {
     "slide_type": "slide"
    }
   },
   "source": [
    "**Advanced topics for Jupyter Notebooks and Scientific Python**\n",
    "2017\n",
    "\n",
    "Material from: Dr. S Pichardo, Scientist TBRRI  \n",
    "Adjunct Professor, Electrical Engineering, Lakehead University"
   ]
  },
  {
   "cell_type": "markdown",
   "metadata": {
    "slideshow": {
     "slide_type": "slide"
    }
   },
   "source": [
    "# Correct use of Markdown"
   ]
  },
  {
   "cell_type": "markdown",
   "metadata": {
    "slideshow": {
     "slide_type": "slide"
    }
   },
   "source": [
    "Markdown is the *other* reason why Notebooks are becoming incredible popular. It is an extremely simple way to document your work and yet it remains visually appealing to read through. Be sure of consulting the [markdown cheat-sheet](https://github.com/adam-p/markdown-here/wiki/Markdown-Cheatsheet). These are some of the very basic rules to create multi-level heading, lists, enumerates, etc (a \".\" represents an space):\n",
    "```\n",
    "# H1\n",
    "## H2\n",
    "### H3\n",
    "#### H4\n",
    "##### H5\n",
    "###### H6\n",
    "```"
   ]
  },
  {
   "cell_type": "markdown",
   "metadata": {
    "nbpresent": {
     "id": "e963a0dd-2c1b-44ba-98b6-39f1a0c7e374"
    },
    "slideshow": {
     "slide_type": "subslide"
    }
   },
   "source": [
    "```\n",
    "1. First ordered list item\n",
    "2. Another item\n",
    "⋅⋅* Unordered sub-list. \n",
    "1. Actual numbers don't matter, just that it's a number\n",
    "⋅⋅1. Ordered sub-list\n",
    "4. And another item.\n",
    "\n",
    "\n",
    "* Unordered list can use asterisks\n",
    "- Or minuses\n",
    "+ Or pluses\n",
    "```"
   ]
  },
  {
   "cell_type": "markdown",
   "metadata": {
    "nbpresent": {
     "id": "436c1e74-fd96-4c2e-a9c1-401546aed86a"
    },
    "slideshow": {
     "slide_type": "subslide"
    }
   },
   "source": [
    "Here we will see how the lists will be rendered:\n",
    "1. First ordered list item\n",
    "2. Another item\n",
    "  * Unordered sub-list. \n",
    "1. Actual numbers don't matter, just that it's a number\n",
    "  1. Ordered sub-list\n",
    "4. And another item.\n",
    "\n",
    "\n",
    "* Unordered list can use asterisks\n",
    "- Or minuses\n",
    "+ Or pluses"
   ]
  },
  {
   "cell_type": "markdown",
   "metadata": {
    "slideshow": {
     "slide_type": "slide"
    }
   },
   "source": [
    "# Use of magic commands"
   ]
  },
  {
   "cell_type": "markdown",
   "metadata": {
    "slideshow": {
     "slide_type": "slide"
    }
   },
   "source": [
    "One of the biggest differentiators of IPython over vanilla Python interpreter is the availability of [*magic*](http://ipython.readthedocs.io/en/stable/interactive/magics.html?highlight=magic) commands, which add a lot *tricks* to ease your coding. There quite a lot of magic commands but these two of the most useful."
   ]
  },
  {
   "cell_type": "markdown",
   "metadata": {
    "nbpresent": {
     "id": "1e1715ef-5206-4775-9706-b1c633a84f29"
    },
    "slideshow": {
     "slide_type": "slide"
    }
   },
   "source": [
    "## %pdb on\n",
    "This command starts the Python debugger ([pdb](https://docs.python.org/2/library/pdb.html)) immediately after an error occurs and shows an ``ipdb`` prompt at the  location where an error occurred. From there you can inspect the variables, list the code around, etc.  \n",
    "A very simple example is shown below. Even if this example the error message is very clear,  for much more complex functions it is often very hard to figure out. **Very important**, to stop the debugger you have to type \"``q +[*enter*]``\" in the debugger window. "
   ]
  },
  {
   "cell_type": "code",
   "execution_count": null,
   "metadata": {
    "nbpresent": {
     "id": "8dde5986-5095-48f1-b164-ce625ea27242"
    },
    "slideshow": {
     "slide_type": "subslide"
    }
   },
   "outputs": [
    {
     "name": "stdout",
     "output_type": "stream",
     "text": [
      "Automatic pdb calling has been turned ON\n"
     ]
    },
    {
     "ename": "ValueError",
     "evalue": "operands could not be broadcast together with shapes (10,10) (11,10) ",
     "output_type": "error",
     "traceback": [
      "\u001b[1;31m---------------------------------------------------------------------------\u001b[0m",
      "\u001b[1;31mValueError\u001b[0m                                Traceback (most recent call last)",
      "\u001b[1;32m<ipython-input-3-f4afe90487be>\u001b[0m in \u001b[0;36m<module>\u001b[1;34m()\u001b[0m\n\u001b[0;32m     13\u001b[0m     \u001b[1;32mreturn\u001b[0m \u001b[0mc\u001b[0m\u001b[1;33m\u001b[0m\u001b[0m\n\u001b[0;32m     14\u001b[0m \u001b[1;33m\u001b[0m\u001b[0m\n\u001b[1;32m---> 15\u001b[1;33m \u001b[0mc\u001b[0m\u001b[1;33m=\u001b[0m\u001b[0mFunction_WithError\u001b[0m\u001b[1;33m(\u001b[0m\u001b[1;33m)\u001b[0m\u001b[1;33m\u001b[0m\u001b[0m\n\u001b[0m",
      "\u001b[1;32m<ipython-input-3-f4afe90487be>\u001b[0m in \u001b[0;36mFunction_WithError\u001b[1;34m()\u001b[0m\n\u001b[0;32m     10\u001b[0m     \u001b[0mb\u001b[0m\u001b[1;33m=\u001b[0m \u001b[0mnp\u001b[0m\u001b[1;33m.\u001b[0m\u001b[0mones\u001b[0m\u001b[1;33m(\u001b[0m\u001b[1;33m(\u001b[0m\u001b[1;36m11\u001b[0m\u001b[1;33m,\u001b[0m\u001b[1;36m10\u001b[0m\u001b[1;33m)\u001b[0m\u001b[1;33m)\u001b[0m \u001b[1;31m# Here it is the error, first dimension was supposed to be 10\u001b[0m\u001b[1;33m\u001b[0m\u001b[0m\n\u001b[0;32m     11\u001b[0m     \u001b[1;31m# a and b don't have same size so we can't do operations with them\u001b[0m\u001b[1;33m\u001b[0m\u001b[1;33m\u001b[0m\u001b[0m\n\u001b[1;32m---> 12\u001b[1;33m     \u001b[0mc\u001b[0m\u001b[1;33m=\u001b[0m\u001b[0mMatSum\u001b[0m\u001b[1;33m(\u001b[0m\u001b[0ma\u001b[0m\u001b[1;33m,\u001b[0m\u001b[0mb\u001b[0m\u001b[1;33m)\u001b[0m \u001b[1;31m#this will trigger an error\u001b[0m\u001b[1;33m\u001b[0m\u001b[0m\n\u001b[0m\u001b[0;32m     13\u001b[0m     \u001b[1;32mreturn\u001b[0m \u001b[0mc\u001b[0m\u001b[1;33m\u001b[0m\u001b[0m\n\u001b[0;32m     14\u001b[0m \u001b[1;33m\u001b[0m\u001b[0m\n",
      "\u001b[1;32m<ipython-input-3-f4afe90487be>\u001b[0m in \u001b[0;36mMatSum\u001b[1;34m(a, b)\u001b[0m\n\u001b[0;32m      4\u001b[0m \u001b[1;33m\u001b[0m\u001b[0m\n\u001b[0;32m      5\u001b[0m \u001b[1;32mdef\u001b[0m \u001b[0mMatSum\u001b[0m\u001b[1;33m(\u001b[0m\u001b[0ma\u001b[0m\u001b[1;33m,\u001b[0m\u001b[0mb\u001b[0m\u001b[1;33m)\u001b[0m\u001b[1;33m:\u001b[0m\u001b[1;33m\u001b[0m\u001b[0m\n\u001b[1;32m----> 6\u001b[1;33m     \u001b[1;32mreturn\u001b[0m \u001b[0ma\u001b[0m\u001b[1;33m+\u001b[0m\u001b[0mb\u001b[0m\u001b[1;33m\u001b[0m\u001b[0m\n\u001b[0m\u001b[0;32m      7\u001b[0m \u001b[1;33m\u001b[0m\u001b[0m\n\u001b[0;32m      8\u001b[0m \u001b[1;32mdef\u001b[0m \u001b[0mFunction_WithError\u001b[0m\u001b[1;33m(\u001b[0m\u001b[1;33m)\u001b[0m\u001b[1;33m:\u001b[0m\u001b[1;33m\u001b[0m\u001b[0m\n",
      "\u001b[1;31mValueError\u001b[0m: operands could not be broadcast together with shapes (10,10) (11,10) "
     ]
    },
    {
     "name": "stdout",
     "output_type": "stream",
     "text": [
      "> \u001b[1;32m<ipython-input-3-f4afe90487be>\u001b[0m(6)\u001b[0;36mMatSum\u001b[1;34m()\u001b[0m\n",
      "\u001b[1;32m      4 \u001b[1;33m\u001b[1;33m\u001b[0m\u001b[0m\n",
      "\u001b[0m\u001b[1;32m      5 \u001b[1;33m\u001b[1;32mdef\u001b[0m \u001b[0mMatSum\u001b[0m\u001b[1;33m(\u001b[0m\u001b[0ma\u001b[0m\u001b[1;33m,\u001b[0m\u001b[0mb\u001b[0m\u001b[1;33m)\u001b[0m\u001b[1;33m:\u001b[0m\u001b[1;33m\u001b[0m\u001b[0m\n",
      "\u001b[0m\u001b[1;32m----> 6 \u001b[1;33m    \u001b[1;32mreturn\u001b[0m \u001b[0ma\u001b[0m\u001b[1;33m+\u001b[0m\u001b[0mb\u001b[0m\u001b[1;33m\u001b[0m\u001b[0m\n",
      "\u001b[0m\u001b[1;32m      7 \u001b[1;33m\u001b[1;33m\u001b[0m\u001b[0m\n",
      "\u001b[0m\u001b[1;32m      8 \u001b[1;33m\u001b[1;32mdef\u001b[0m \u001b[0mFunction_WithError\u001b[0m\u001b[1;33m(\u001b[0m\u001b[1;33m)\u001b[0m\u001b[1;33m:\u001b[0m\u001b[1;33m\u001b[0m\u001b[0m\n",
      "\u001b[0m\n"
     ]
    }
   ],
   "source": [
    "import numpy as np\n",
    "#we activate the automatic debugger\n",
    "%pdb on \n",
    "\n",
    "def MatSum(a,b):\n",
    "    return a+b\n",
    "\n",
    "def Function_WithError():\n",
    "    a = np.zeros((10,10))\n",
    "    b= np.ones((11,10)) # Here it is the error, first dimension was supposed to be 10\n",
    "    # a and b don't have same size so we can't do operations with them\n",
    "    c=MatSum(a,b) #this will trigger an error\n",
    "    return c\n",
    "\n",
    "c=Function_WithError()"
   ]
  },
  {
   "cell_type": "markdown",
   "metadata": {
    "nbpresent": {
     "id": "e613c807-cdbe-4a84-92cc-2aa6a642ded5"
    },
    "slideshow": {
     "slide_type": "slide"
    }
   },
   "source": [
    "## % prun\n",
    "This command runs a profiler and prints detailed info of which sections of the code is taking most of the computing time."
   ]
  },
  {
   "cell_type": "code",
   "execution_count": 2,
   "metadata": {
    "nbpresent": {
     "id": "40e02984-0d63-4dab-b42e-4ec3ad30ea60"
    },
    "scrolled": true,
    "slideshow": {
     "slide_type": "subslide"
    }
   },
   "outputs": [
    {
     "ename": "NameError",
     "evalue": "name 'xrange' is not defined",
     "output_type": "error",
     "traceback": [
      "\u001b[1;31m---------------------------------------------------------------------------\u001b[0m",
      "\u001b[1;31mNameError\u001b[0m                                 Traceback (most recent call last)",
      "\u001b[1;32m<ipython-input-2-37c251e2275c>\u001b[0m in \u001b[0;36m<module>\u001b[1;34m()\u001b[0m\n\u001b[0;32m     22\u001b[0m \u001b[1;31m# you can call just with %prun and results will be displayed in a small pop window\u001b[0m\u001b[1;33m\u001b[0m\u001b[1;33m\u001b[0m\u001b[0m\n\u001b[0;32m     23\u001b[0m \u001b[1;31m# but you can't save the variable for further analysis\u001b[0m\u001b[1;33m\u001b[0m\u001b[1;33m\u001b[0m\u001b[0m\n\u001b[1;32m---> 24\u001b[1;33m \u001b[0mp1\u001b[0m \u001b[1;33m=\u001b[0m \u001b[0mget_ipython\u001b[0m\u001b[1;33m(\u001b[0m\u001b[1;33m)\u001b[0m\u001b[1;33m.\u001b[0m\u001b[0mmagic\u001b[0m\u001b[1;33m(\u001b[0m\u001b[1;34m'%prun -r VeryInefficientAdditionofMatrices(a,b);'\u001b[0m\u001b[1;33m)\u001b[0m\u001b[1;33m\u001b[0m\u001b[0m\n\u001b[0m\u001b[0;32m     25\u001b[0m \u001b[0mp1\u001b[0m\u001b[1;33m.\u001b[0m\u001b[0mprint_stats\u001b[0m\u001b[1;33m(\u001b[0m\u001b[1;33m)\u001b[0m\u001b[1;33m;\u001b[0m\u001b[1;33m\u001b[0m\u001b[0m\n\u001b[0;32m     26\u001b[0m \u001b[1;33m\u001b[0m\u001b[0m\n",
      "\u001b[1;32mC:\\Anaconda\\lib\\site-packages\\IPython\\core\\interactiveshell.py\u001b[0m in \u001b[0;36mmagic\u001b[1;34m(self, arg_s)\u001b[0m\n\u001b[0;32m   2156\u001b[0m         \u001b[0mmagic_name\u001b[0m\u001b[1;33m,\u001b[0m \u001b[0m_\u001b[0m\u001b[1;33m,\u001b[0m \u001b[0mmagic_arg_s\u001b[0m \u001b[1;33m=\u001b[0m \u001b[0marg_s\u001b[0m\u001b[1;33m.\u001b[0m\u001b[0mpartition\u001b[0m\u001b[1;33m(\u001b[0m\u001b[1;34m' '\u001b[0m\u001b[1;33m)\u001b[0m\u001b[1;33m\u001b[0m\u001b[0m\n\u001b[0;32m   2157\u001b[0m         \u001b[0mmagic_name\u001b[0m \u001b[1;33m=\u001b[0m \u001b[0mmagic_name\u001b[0m\u001b[1;33m.\u001b[0m\u001b[0mlstrip\u001b[0m\u001b[1;33m(\u001b[0m\u001b[0mprefilter\u001b[0m\u001b[1;33m.\u001b[0m\u001b[0mESC_MAGIC\u001b[0m\u001b[1;33m)\u001b[0m\u001b[1;33m\u001b[0m\u001b[0m\n\u001b[1;32m-> 2158\u001b[1;33m         \u001b[1;32mreturn\u001b[0m \u001b[0mself\u001b[0m\u001b[1;33m.\u001b[0m\u001b[0mrun_line_magic\u001b[0m\u001b[1;33m(\u001b[0m\u001b[0mmagic_name\u001b[0m\u001b[1;33m,\u001b[0m \u001b[0mmagic_arg_s\u001b[0m\u001b[1;33m)\u001b[0m\u001b[1;33m\u001b[0m\u001b[0m\n\u001b[0m\u001b[0;32m   2159\u001b[0m \u001b[1;33m\u001b[0m\u001b[0m\n\u001b[0;32m   2160\u001b[0m     \u001b[1;31m#-------------------------------------------------------------------------\u001b[0m\u001b[1;33m\u001b[0m\u001b[1;33m\u001b[0m\u001b[0m\n",
      "\u001b[1;32mC:\\Anaconda\\lib\\site-packages\\IPython\\core\\interactiveshell.py\u001b[0m in \u001b[0;36mrun_line_magic\u001b[1;34m(self, magic_name, line)\u001b[0m\n\u001b[0;32m   2077\u001b[0m                 \u001b[0mkwargs\u001b[0m\u001b[1;33m[\u001b[0m\u001b[1;34m'local_ns'\u001b[0m\u001b[1;33m]\u001b[0m \u001b[1;33m=\u001b[0m \u001b[0msys\u001b[0m\u001b[1;33m.\u001b[0m\u001b[0m_getframe\u001b[0m\u001b[1;33m(\u001b[0m\u001b[0mstack_depth\u001b[0m\u001b[1;33m)\u001b[0m\u001b[1;33m.\u001b[0m\u001b[0mf_locals\u001b[0m\u001b[1;33m\u001b[0m\u001b[0m\n\u001b[0;32m   2078\u001b[0m             \u001b[1;32mwith\u001b[0m \u001b[0mself\u001b[0m\u001b[1;33m.\u001b[0m\u001b[0mbuiltin_trap\u001b[0m\u001b[1;33m:\u001b[0m\u001b[1;33m\u001b[0m\u001b[0m\n\u001b[1;32m-> 2079\u001b[1;33m                 \u001b[0mresult\u001b[0m \u001b[1;33m=\u001b[0m \u001b[0mfn\u001b[0m\u001b[1;33m(\u001b[0m\u001b[1;33m*\u001b[0m\u001b[0margs\u001b[0m\u001b[1;33m,\u001b[0m\u001b[1;33m**\u001b[0m\u001b[0mkwargs\u001b[0m\u001b[1;33m)\u001b[0m\u001b[1;33m\u001b[0m\u001b[0m\n\u001b[0m\u001b[0;32m   2080\u001b[0m             \u001b[1;32mreturn\u001b[0m \u001b[0mresult\u001b[0m\u001b[1;33m\u001b[0m\u001b[0m\n\u001b[0;32m   2081\u001b[0m \u001b[1;33m\u001b[0m\u001b[0m\n",
      "\u001b[1;32m<decorator-gen-54>\u001b[0m in \u001b[0;36mprun\u001b[1;34m(self, parameter_s, cell)\u001b[0m\n",
      "\u001b[1;32mC:\\Anaconda\\lib\\site-packages\\IPython\\core\\magic.py\u001b[0m in \u001b[0;36m<lambda>\u001b[1;34m(f, *a, **k)\u001b[0m\n\u001b[0;32m    186\u001b[0m     \u001b[1;31m# but it's overkill for just that one bit of state.\u001b[0m\u001b[1;33m\u001b[0m\u001b[1;33m\u001b[0m\u001b[0m\n\u001b[0;32m    187\u001b[0m     \u001b[1;32mdef\u001b[0m \u001b[0mmagic_deco\u001b[0m\u001b[1;33m(\u001b[0m\u001b[0marg\u001b[0m\u001b[1;33m)\u001b[0m\u001b[1;33m:\u001b[0m\u001b[1;33m\u001b[0m\u001b[0m\n\u001b[1;32m--> 188\u001b[1;33m         \u001b[0mcall\u001b[0m \u001b[1;33m=\u001b[0m \u001b[1;32mlambda\u001b[0m \u001b[0mf\u001b[0m\u001b[1;33m,\u001b[0m \u001b[1;33m*\u001b[0m\u001b[0ma\u001b[0m\u001b[1;33m,\u001b[0m \u001b[1;33m**\u001b[0m\u001b[0mk\u001b[0m\u001b[1;33m:\u001b[0m \u001b[0mf\u001b[0m\u001b[1;33m(\u001b[0m\u001b[1;33m*\u001b[0m\u001b[0ma\u001b[0m\u001b[1;33m,\u001b[0m \u001b[1;33m**\u001b[0m\u001b[0mk\u001b[0m\u001b[1;33m)\u001b[0m\u001b[1;33m\u001b[0m\u001b[0m\n\u001b[0m\u001b[0;32m    189\u001b[0m \u001b[1;33m\u001b[0m\u001b[0m\n\u001b[0;32m    190\u001b[0m         \u001b[1;32mif\u001b[0m \u001b[0mcallable\u001b[0m\u001b[1;33m(\u001b[0m\u001b[0marg\u001b[0m\u001b[1;33m)\u001b[0m\u001b[1;33m:\u001b[0m\u001b[1;33m\u001b[0m\u001b[0m\n",
      "\u001b[1;32mC:\\Anaconda\\lib\\site-packages\\IPython\\core\\magics\\execution.py\u001b[0m in \u001b[0;36mprun\u001b[1;34m(self, parameter_s, cell)\u001b[0m\n\u001b[0;32m    279\u001b[0m             \u001b[0marg_str\u001b[0m \u001b[1;33m+=\u001b[0m \u001b[1;34m'\\n'\u001b[0m \u001b[1;33m+\u001b[0m \u001b[0mcell\u001b[0m\u001b[1;33m\u001b[0m\u001b[0m\n\u001b[0;32m    280\u001b[0m         \u001b[0marg_str\u001b[0m \u001b[1;33m=\u001b[0m \u001b[0mself\u001b[0m\u001b[1;33m.\u001b[0m\u001b[0mshell\u001b[0m\u001b[1;33m.\u001b[0m\u001b[0minput_splitter\u001b[0m\u001b[1;33m.\u001b[0m\u001b[0mtransform_cell\u001b[0m\u001b[1;33m(\u001b[0m\u001b[0marg_str\u001b[0m\u001b[1;33m)\u001b[0m\u001b[1;33m\u001b[0m\u001b[0m\n\u001b[1;32m--> 281\u001b[1;33m         \u001b[1;32mreturn\u001b[0m \u001b[0mself\u001b[0m\u001b[1;33m.\u001b[0m\u001b[0m_run_with_profiler\u001b[0m\u001b[1;33m(\u001b[0m\u001b[0marg_str\u001b[0m\u001b[1;33m,\u001b[0m \u001b[0mopts\u001b[0m\u001b[1;33m,\u001b[0m \u001b[0mself\u001b[0m\u001b[1;33m.\u001b[0m\u001b[0mshell\u001b[0m\u001b[1;33m.\u001b[0m\u001b[0muser_ns\u001b[0m\u001b[1;33m)\u001b[0m\u001b[1;33m\u001b[0m\u001b[0m\n\u001b[0m\u001b[0;32m    282\u001b[0m \u001b[1;33m\u001b[0m\u001b[0m\n\u001b[0;32m    283\u001b[0m     \u001b[1;32mdef\u001b[0m \u001b[0m_run_with_profiler\u001b[0m\u001b[1;33m(\u001b[0m\u001b[0mself\u001b[0m\u001b[1;33m,\u001b[0m \u001b[0mcode\u001b[0m\u001b[1;33m,\u001b[0m \u001b[0mopts\u001b[0m\u001b[1;33m,\u001b[0m \u001b[0mnamespace\u001b[0m\u001b[1;33m)\u001b[0m\u001b[1;33m:\u001b[0m\u001b[1;33m\u001b[0m\u001b[0m\n",
      "\u001b[1;32mC:\\Anaconda\\lib\\site-packages\\IPython\\core\\magics\\execution.py\u001b[0m in \u001b[0;36m_run_with_profiler\u001b[1;34m(self, code, opts, namespace)\u001b[0m\n\u001b[0;32m    301\u001b[0m         \u001b[0mprof\u001b[0m \u001b[1;33m=\u001b[0m \u001b[0mprofile\u001b[0m\u001b[1;33m.\u001b[0m\u001b[0mProfile\u001b[0m\u001b[1;33m(\u001b[0m\u001b[1;33m)\u001b[0m\u001b[1;33m\u001b[0m\u001b[0m\n\u001b[0;32m    302\u001b[0m         \u001b[1;32mtry\u001b[0m\u001b[1;33m:\u001b[0m\u001b[1;33m\u001b[0m\u001b[0m\n\u001b[1;32m--> 303\u001b[1;33m             \u001b[0mprof\u001b[0m \u001b[1;33m=\u001b[0m \u001b[0mprof\u001b[0m\u001b[1;33m.\u001b[0m\u001b[0mrunctx\u001b[0m\u001b[1;33m(\u001b[0m\u001b[0mcode\u001b[0m\u001b[1;33m,\u001b[0m \u001b[0mnamespace\u001b[0m\u001b[1;33m,\u001b[0m \u001b[0mnamespace\u001b[0m\u001b[1;33m)\u001b[0m\u001b[1;33m\u001b[0m\u001b[0m\n\u001b[0m\u001b[0;32m    304\u001b[0m             \u001b[0msys_exit\u001b[0m \u001b[1;33m=\u001b[0m \u001b[1;34m''\u001b[0m\u001b[1;33m\u001b[0m\u001b[0m\n\u001b[0;32m    305\u001b[0m         \u001b[1;32mexcept\u001b[0m \u001b[0mSystemExit\u001b[0m\u001b[1;33m:\u001b[0m\u001b[1;33m\u001b[0m\u001b[0m\n",
      "\u001b[1;32mC:\\Anaconda\\lib\\cProfile.py\u001b[0m in \u001b[0;36mrunctx\u001b[1;34m(self, cmd, globals, locals)\u001b[0m\n\u001b[0;32m     98\u001b[0m         \u001b[0mself\u001b[0m\u001b[1;33m.\u001b[0m\u001b[0menable\u001b[0m\u001b[1;33m(\u001b[0m\u001b[1;33m)\u001b[0m\u001b[1;33m\u001b[0m\u001b[0m\n\u001b[0;32m     99\u001b[0m         \u001b[1;32mtry\u001b[0m\u001b[1;33m:\u001b[0m\u001b[1;33m\u001b[0m\u001b[0m\n\u001b[1;32m--> 100\u001b[1;33m             \u001b[0mexec\u001b[0m\u001b[1;33m(\u001b[0m\u001b[0mcmd\u001b[0m\u001b[1;33m,\u001b[0m \u001b[0mglobals\u001b[0m\u001b[1;33m,\u001b[0m \u001b[0mlocals\u001b[0m\u001b[1;33m)\u001b[0m\u001b[1;33m\u001b[0m\u001b[0m\n\u001b[0m\u001b[0;32m    101\u001b[0m         \u001b[1;32mfinally\u001b[0m\u001b[1;33m:\u001b[0m\u001b[1;33m\u001b[0m\u001b[0m\n\u001b[0;32m    102\u001b[0m             \u001b[0mself\u001b[0m\u001b[1;33m.\u001b[0m\u001b[0mdisable\u001b[0m\u001b[1;33m(\u001b[0m\u001b[1;33m)\u001b[0m\u001b[1;33m\u001b[0m\u001b[0m\n",
      "\u001b[1;32m<string>\u001b[0m in \u001b[0;36m<module>\u001b[1;34m()\u001b[0m\n",
      "\u001b[1;32m<ipython-input-2-37c251e2275c>\u001b[0m in \u001b[0;36mVeryInefficientAdditionofMatrices\u001b[1;34m(a, b)\u001b[0m\n\u001b[0;32m      5\u001b[0m     '''\n\u001b[0;32m      6\u001b[0m     \u001b[0mc\u001b[0m\u001b[1;33m=\u001b[0m\u001b[0mnp\u001b[0m\u001b[1;33m.\u001b[0m\u001b[0mzeros\u001b[0m\u001b[1;33m(\u001b[0m\u001b[0ma\u001b[0m\u001b[1;33m.\u001b[0m\u001b[0mshape\u001b[0m\u001b[1;33m)\u001b[0m\u001b[1;33m\u001b[0m\u001b[0m\n\u001b[1;32m----> 7\u001b[1;33m     \u001b[1;32mfor\u001b[0m \u001b[0mm\u001b[0m \u001b[1;32min\u001b[0m \u001b[0mxrange\u001b[0m\u001b[1;33m(\u001b[0m\u001b[0ma\u001b[0m\u001b[1;33m.\u001b[0m\u001b[0mshape\u001b[0m\u001b[1;33m[\u001b[0m\u001b[1;36m0\u001b[0m\u001b[1;33m]\u001b[0m\u001b[1;33m)\u001b[0m\u001b[1;33m:\u001b[0m\u001b[1;33m\u001b[0m\u001b[0m\n\u001b[0m\u001b[0;32m      8\u001b[0m         \u001b[1;32mfor\u001b[0m \u001b[0mn\u001b[0m \u001b[1;32min\u001b[0m \u001b[0mxrange\u001b[0m\u001b[1;33m(\u001b[0m\u001b[0ma\u001b[0m\u001b[1;33m.\u001b[0m\u001b[0mshape\u001b[0m\u001b[1;33m[\u001b[0m\u001b[1;36m1\u001b[0m\u001b[1;33m]\u001b[0m\u001b[1;33m)\u001b[0m\u001b[1;33m:\u001b[0m\u001b[1;33m\u001b[0m\u001b[0m\n\u001b[0;32m      9\u001b[0m             \u001b[1;32mfor\u001b[0m \u001b[0mo\u001b[0m \u001b[1;32min\u001b[0m \u001b[0mxrange\u001b[0m\u001b[1;33m(\u001b[0m\u001b[0ma\u001b[0m\u001b[1;33m.\u001b[0m\u001b[0mshape\u001b[0m\u001b[1;33m[\u001b[0m\u001b[1;36m2\u001b[0m\u001b[1;33m]\u001b[0m\u001b[1;33m)\u001b[0m\u001b[1;33m:\u001b[0m\u001b[1;33m\u001b[0m\u001b[0m\n",
      "\u001b[1;31mNameError\u001b[0m: name 'xrange' is not defined"
     ]
    }
   ],
   "source": [
    "import numpy as np\n",
    "def VeryInefficientAdditionofMatrices(a,b):\n",
    "    '''\n",
    "    This will add the values of 2 3D matrices using a dummy loop method, very inefficient\n",
    "    '''\n",
    "    c=np.zeros(a.shape)\n",
    "    for m in xrange(a.shape[0]):\n",
    "        for n in xrange(a.shape[1]):\n",
    "            for o in xrange(a.shape[2]):\n",
    "                c[m,n,o]=a[m,n,o]+b[m,n,o]\n",
    "                \n",
    "def TheRightWayToAddMatrices(a,b):\n",
    "    '''\n",
    "    Use instead the built-in matrices operations\n",
    "    '''\n",
    "    return a+b\n",
    "# we use two 100x100x100 random matrices\n",
    "a=np.random.random((100,100,100)) \n",
    "b=np.random.random((100,100,100))\n",
    "\n",
    "#A small note, we use here the \"p = %%prun -r\" format to get the results in the variable p,\n",
    "# you can call just with %prun and results will be displayed in a small pop window\n",
    "# but you can't save the variable for further analysis\n",
    "p1 =%%prun -r VeryInefficientAdditionofMatrices(a,b);\n",
    "p1.print_stats();\n",
    "\n",
    "p2 =%%prun -r TheRightWayToAddMatrices(a,b);\n",
    "p2.print_stats();\n"
   ]
  },
  {
   "cell_type": "markdown",
   "metadata": {
    "nbpresent": {
     "id": "06388f96-61dc-4a23-8eaa-5eb3e48cd2e2"
    },
    "slideshow": {
     "slide_type": "fragment"
    }
   },
   "source": [
    "It can be clearly seen in this simple case that the function using the built-in matrices functions in numpy is at least **150x** faster. `%prun` can help to tune very compute intense code. See in the [*magic*](http://ipython.readthedocs.io/en/stable/interactive/magics.html?highlight=magic) documentation for all the possibilities."
   ]
  },
  {
   "cell_type": "markdown",
   "metadata": {
    "slideshow": {
     "slide_type": "slide"
    }
   },
   "source": [
    "# Different back-ends for matplotlib plotting"
   ]
  },
  {
   "cell_type": "markdown",
   "metadata": {
    "nbpresent": {
     "id": "52444dbb-49d8-4593-ac58-e93e8b547897"
    },
    "slideshow": {
     "slide_type": "slide"
    }
   },
   "source": [
    "Historically, Jupyter (and before IPython) have supported several mechanisms for plotting in an IPython session. How exactly initiate the matplotlib library in Notebooks has changed over the years, and may continue to do so.  \n",
    "In the current version (Ipython 4.x and up), if you plan to show matplotlib plots, you have to initialize the session with the magic command **%matplotlib**. By default, a separate plot window will appear and you have to expressly use the .show() function."
   ]
  },
  {
   "cell_type": "code",
   "execution_count": null,
   "metadata": {
    "collapsed": true,
    "nbpresent": {
     "id": "97be8bdb-29e8-4df4-9fa2-a9779eb32b72"
    },
    "slideshow": {
     "slide_type": "slide"
    }
   },
   "outputs": [],
   "source": [
    "%matplotlib\n",
    "import numpy as np\n",
    "import matplotlib.pyplot as plt\n",
    "plt.figure()\n",
    "plt.plot(np.random.random(100))\n",
    "plt.show()"
   ]
  },
  {
   "cell_type": "markdown",
   "metadata": {
    "slideshow": {
     "slide_type": "fragment"
    }
   },
   "source": [
    "This approach is more common  when you are running ipython from a terminal window. It will open windows for every figure you create. For notebooks, this traditional approach is not very appropriate as figures do not even appear often in front of the notebook, so it makes its use very difficult."
   ]
  },
  {
   "cell_type": "markdown",
   "metadata": {
    "nbpresent": {
     "id": "e5949448-a2ac-4134-98b2-16d8b34228a3"
    },
    "slideshow": {
     "slide_type": "slide"
    }
   },
   "source": [
    "## %matplotib inline\n",
    "For a better workflow with notebooks, **%matplotlib** has multiple \"backends\" that can be used. The most common is to use **%matplotlib inline**, which will make the plots to appear in the output frame of a cell."
   ]
  },
  {
   "cell_type": "code",
   "execution_count": null,
   "metadata": {
    "collapsed": true,
    "slideshow": {
     "slide_type": "fragment"
    }
   },
   "outputs": [],
   "source": [
    "#WE NEED TO RESTART KERNEL BEFORE CONTINUING\n",
    "#this is a little trick to restart the kernel from a cell\n",
    "import os\n",
    "os._exit(0)"
   ]
  },
  {
   "cell_type": "code",
   "execution_count": null,
   "metadata": {
    "collapsed": true,
    "nbpresent": {
     "id": "ad81a46f-760f-4d41-ad8e-c411b81aab87"
    },
    "slideshow": {
     "slide_type": "slide"
    }
   },
   "outputs": [],
   "source": [
    "%matplotlib inline\n",
    "import matplotlib as mpl\n",
    "mpl.rcParams['font.size']=14\n",
    "mpl.rcParams['figure.figsize']=(6,5) \n",
    "import numpy as np\n",
    "import matplotlib.pyplot as plt\n",
    "plt.figure()\n",
    "plt.plot(np.random.random(100))\n",
    "plt.show()"
   ]
  },
  {
   "cell_type": "markdown",
   "metadata": {
    "nbpresent": {
     "id": "81f3c8a2-4596-41ca-8c3b-01ee82816438"
    },
    "slideshow": {
     "slide_type": "fragment"
    }
   },
   "source": [
    "As the output is rendered directly in the browser window, this helps to plot a lot of graphs without overloading the number of windows. Properly arranged, this method can be a very effective to analyze and present your results. All the functionality of matplotlib is supported, including subfigures and complex arrangements. The following examples are directly from matplotlib [website](http://matplotlib.org/examples/pylab_examples/subplots_demo.html).\n"
   ]
  },
  {
   "cell_type": "code",
   "execution_count": null,
   "metadata": {
    "collapsed": true,
    "nbpresent": {
     "id": "8dc0853b-c728-4c85-ba55-3a4c7aab3107"
    },
    "slideshow": {
     "slide_type": "slide"
    }
   },
   "outputs": [],
   "source": [
    "# Simple data to display in various forms\n",
    "x = np.linspace(0, 2 * np.pi, 400)\n",
    "y = np.sin(x ** 2)\n",
    "\n",
    "# Just a figure and one subplot\n",
    "f, ax = plt.subplots()\n",
    "ax.plot(x, y)\n",
    "ax.set_title('Simple plot');"
   ]
  },
  {
   "cell_type": "code",
   "execution_count": null,
   "metadata": {
    "collapsed": true,
    "nbpresent": {
     "id": "a2bc9f72-3f20-4f7a-a972-8a4a40312966"
    },
    "slideshow": {
     "slide_type": "subslide"
    }
   },
   "outputs": [],
   "source": [
    "# Two subplots, the axes array is 1-d\n",
    "f, axarr = plt.subplots(2, sharex=True)\n",
    "axarr[0].plot(x, y)\n",
    "axarr[0].set_title('Sharing X axis')\n",
    "axarr[1].scatter(x, y);"
   ]
  },
  {
   "cell_type": "code",
   "execution_count": 4,
   "metadata": {
    "nbpresent": {
     "id": "a7ccbd6d-5aa3-4bb1-bf8e-e06a40708556"
    },
    "slideshow": {
     "slide_type": "subslide"
    }
   },
   "outputs": [
    {
     "data": {
      "image/png": "[encoded data removed]",
      "text/plain": [
       "<matplotlib.figure.Figure at 0x7a0b828>"
      ]
     },
     "metadata": {},
     "output_type": "display_data"
    }
   ],
   "source": [
    "# Two subplots, unpack the axes array immediately\n",
    "f, (ax1, ax2) = plt.subplots(1, 2, sharey=True)\n",
    "ax1.plot(x, y)\n",
    "ax1.set_title('Sharing Y axis')\n",
    "ax2.scatter(x, y);"
   ]
  },
  {
   "cell_type": "code",
   "execution_count": null,
   "metadata": {
    "collapsed": true,
    "nbpresent": {
     "id": "c5debbfc-089b-46d4-b9e2-f128b052222c"
    },
    "slideshow": {
     "slide_type": "subslide"
    }
   },
   "outputs": [],
   "source": [
    "# Three subplots sharing both x/y axes\n",
    "f, (ax1, ax2, ax3) = plt.subplots(3, sharex=True, sharey=True)\n",
    "ax1.plot(x, y)\n",
    "ax1.set_title('Sharing both axes')\n",
    "ax2.scatter(x, y)\n",
    "ax3.scatter(x, 2 * y ** 2 - 1, color='r')\n",
    "# Fine-tune figure; make subplots close to each other and hide x ticks for\n",
    "# all but bottom plot.\n",
    "f.subplots_adjust(hspace=0)\n",
    "dd=plt.setp([a.get_xticklabels() for a in f.axes[:-1]], visible=False)"
   ]
  },
  {
   "cell_type": "code",
   "execution_count": 6,
   "metadata": {
    "nbpresent": {
     "id": "f8987081-f925-420c-9599-73263a61c60a"
    },
    "slideshow": {
     "slide_type": "subslide"
    }
   },
   "outputs": [
    {
     "data": {
      "image/png": "[encoded data removed]",
      "text/plain": [
       "<matplotlib.figure.Figure at 0x8cd9128>"
      ]
     },
     "metadata": {},
     "output_type": "display_data"
    }
   ],
   "source": [
    "# row and column sharing\n",
    "f, ((ax1, ax2), (ax3, ax4)) = plt.subplots(2, 2, sharex='col', sharey='row')\n",
    "ax1.plot(x, y)\n",
    "ax1.set_title('Sharing x per column, y per row')\n",
    "ax2.scatter(x, y)\n",
    "ax3.scatter(x, 2 * y ** 2 - 1, color='r')\n",
    "dd=ax4.plot(x, 2 * y ** 2 - 1, color='r')"
   ]
  },
  {
   "cell_type": "code",
   "execution_count": null,
   "metadata": {
    "cell_style": "center",
    "collapsed": true,
    "hide_input": false,
    "nbpresent": {
     "id": "014f4b15-ffda-4c4e-867b-2fa9ffded5b1"
    },
    "slideshow": {
     "slide_type": "subslide"
    }
   },
   "outputs": [],
   "source": [
    "# Four axes, returned as a 2-d array\n",
    "f, axarr = plt.subplots(2, 2)\n",
    "axarr[0, 0].plot(x, y)\n",
    "axarr[0, 0].set_title('Axis [0,0]')\n",
    "axarr[0, 1].scatter(x, y)\n",
    "axarr[0, 1].set_title('Axis [0,1]')\n",
    "axarr[1, 0].plot(x, y ** 2)\n",
    "axarr[1, 0].set_title('Axis [1,0]')\n",
    "axarr[1, 1].scatter(x, y ** 2)\n",
    "axarr[1, 1].set_title('Axis [1,1]')\n",
    "# Fine-tune figure; hide x ticks for top plots and y ticks for right plots\n",
    "plt.setp([a.get_xticklabels() for a in axarr[0, :]], visible=False)\n",
    "plt.setp([a.get_yticklabels() for a in axarr[:, 1]], visible=False)\n",
    "\n",
    "# Four polar axes\n",
    "dd=plt.subplots(2, 2, subplot_kw=dict(projection='polar'))\n"
   ]
  },
  {
   "cell_type": "markdown",
   "metadata": {
    "nbpresent": {
     "id": "fa463762-f7bb-48e1-9588-067ec6b55eaf"
    },
    "slideshow": {
     "slide_type": "slide"
    }
   },
   "source": [
    "## %matplotlib nbagg\n",
    "**matplotlib inline** is by far more than enough for most applications, however, the inline approach produces a static figure that cannot be easily zoomed or inspected. For this purpose, we can use **%matplotlib nbagg** as backend that uses HTML commands to have some minimal interactions with the plot. "
   ]
  },
  {
   "cell_type": "code",
   "execution_count": null,
   "metadata": {
    "collapsed": true,
    "slideshow": {
     "slide_type": "fragment"
    }
   },
   "outputs": [],
   "source": [
    "#WE NEED TO RESTART KERNEL BEFORE CONTINUING\n",
    "#this is a little trick to restart the kernel from a cell\n",
    "import os\n",
    "os._exit(0)"
   ]
  },
  {
   "cell_type": "code",
   "execution_count": null,
   "metadata": {
    "collapsed": true,
    "nbpresent": {
     "id": "06fa4c48-cda9-4b8f-9c22-36b9b82476e6"
    },
    "slideshow": {
     "slide_type": "slide"
    }
   },
   "outputs": [],
   "source": [
    "#BE SURE OF RESTARTING KERNEL BEFORE CONTINUING\n",
    "%matplotlib nbagg\n",
    "import numpy as np\n",
    "import matplotlib.pyplot as plt\n",
    "plt.figure()\n",
    "plt.plot(np.random.random(100))\n",
    "plt.show()"
   ]
  },
  {
   "cell_type": "markdown",
   "metadata": {
    "nbpresent": {
     "id": "04037ede-b18b-447b-80fb-e22ad4438771"
    },
    "slideshow": {
     "slide_type": "fragment"
    }
   },
   "source": [
    "Be sure of switching back to ``inline`` mode if you plan to use the figures to generate paper-ready version files of your plot figures."
   ]
  },
  {
   "cell_type": "markdown",
   "metadata": {
    "slideshow": {
     "slide_type": "slide"
    }
   },
   "source": [
    "## Interactive plotting and function evaluation\n",
    "Normal plotting with matplotlib is often enough for most of scenarios. However, because Jupyter Notebook uses HTML+JavaScript as low-level engine, there have been multiple initiatives to enhance the experience with notebooks."
   ]
  },
  {
   "cell_type": "markdown",
   "metadata": {
    "slideshow": {
     "slide_type": "subslide"
    }
   },
   "source": [
    "For this purpose, the ``ipywidgets`` library was developed to facilitate visualization of results when input parameter are interactively modified, in some sort of minimalistic graphic user interface approach."
   ]
  },
  {
   "cell_type": "markdown",
   "metadata": {
    "hide_input": true,
    "nbpresent": {
     "id": "e6aba7c0-2c46-4f5c-befa-c259e58f2b22"
    },
    "slideshow": {
     "slide_type": "subslide"
    }
   },
   "source": [
    "This library needs to be installed with ``conda install ipywidgets`` in a terminal window. Below there is a simple example to plot a sine function where several parameters, such as the frequency and temporal step, are interactively set by using simple graphic widgets. "
   ]
  },
  {
   "cell_type": "code",
   "execution_count": null,
   "metadata": {
    "collapsed": true,
    "slideshow": {
     "slide_type": "fragment"
    }
   },
   "outputs": [],
   "source": [
    "#WE NEED TO RESTART KERNEL BEFORE CONTINUING\n",
    "#this is a little trick to restart the kernel from a cell\n",
    "import os\n",
    "os._exit(0)"
   ]
  },
  {
   "cell_type": "code",
   "execution_count": null,
   "metadata": {
    "collapsed": true,
    "hide_input": false,
    "nbpresent": {
     "id": "c8d1f10d-7fc8-4301-96a9-32b46017d9c8"
    },
    "slideshow": {
     "slide_type": "slide"
    }
   },
   "outputs": [],
   "source": [
    "#interact only works with inline\n",
    "%matplotlib inline \n",
    "import matplotlib as mpl; mpl.rcParams['font.size']=14; mpl.rcParams['figure.figsize']=(6,5) \n",
    "from ipywidgets import interact\n",
    "#from IPython.display import display\n",
    "import numpy as np\n",
    "import matplotlib.pyplot as plt\n",
    "\n",
    "def GenSinusFunction(freq,tend,lambda_step_log):\n",
    "    # freq is in MHz, t_end in us, and lambda_step is in log10 so we can visualize effects of high resolution sampling all the way to coarse\n",
    "    lambda_step=10.0**lambda_step_log\n",
    "    dt=1./(freq*1e6)*lambda_step\n",
    "    t=np.arange(0,tend/1e6,dt)\n",
    "    s=np.sin(np.pi*2*freq*1e6*t)\n",
    "    plt.figure(figsize=(8,6))\n",
    "    plt.plot(t*1e6,s)\n",
    "    plt.xlabel('$\\mu$s')\n",
    "    plt.show()\n",
    "\n",
    "interact(GenSinusFunction,freq=(0.,2.0),tend=(1.,30.),\n",
    "           lambda_step_log=(-4,np.log10(0.5),0.01));"
   ]
  },
  {
   "cell_type": "markdown",
   "metadata": {
    "slideshow": {
     "slide_type": "slide"
    }
   },
   "source": [
    "This is rendered correctly in a normal notebook, but when using slideshow mode, we can see the slider is too short.\n",
    "But this is easily fixed by using the low-level class"
   ]
  },
  {
   "cell_type": "code",
   "execution_count": null,
   "metadata": {
    "collapsed": true,
    "slideshow": {
     "slide_type": "slide"
    }
   },
   "outputs": [],
   "source": [
    "from ipywidgets import interact,FloatSlider,IntSlider\n",
    "interact(GenSinusFunction,freq=FloatSlider(value=1.,min=0.1,max=2.0,step=0.1,width='400px'),\n",
    "            tend=FloatSlider(value=10.,min=1.,max=30.0,step=1,width='400px'),\n",
    "            lambda_step_log=FloatSlider(value=-2.,min=-4.,max=np.log10(0.5),step=0.01,width='400px'));"
   ]
  },
  {
   "cell_type": "markdown",
   "metadata": {
    "nbpresent": {
     "id": "b272b2e9-0949-4534-ac41-5749ef6955e3"
    },
    "slideshow": {
     "slide_type": "slide"
    }
   },
   "source": [
    "This type of interactive testing is quite useful specially in **signal processing** the effects of multiple filter parameters can be quickly tested.  "
   ]
  },
  {
   "cell_type": "code",
   "execution_count": null,
   "metadata": {
    "collapsed": true,
    "nbpresent": {
     "id": "45e18caf-923f-407a-87ae-5bfabd3e8581"
    },
    "slideshow": {
     "slide_type": "subslide"
    }
   },
   "outputs": [],
   "source": [
    "from scipy import signal\n",
    "\n",
    "def GenSinusFunctionWithNoise(freq,tend,lambda_step_log,noise_level):\n",
    "    # freq is in MHz, t_end in us, and lambda_step is the sampling rate in log10 so we can visualize effects of high resolution sampling all the way to coarse\n",
    "    # noise_level is the amplitude between 0 and 1\n",
    "    lambda_step=10.0**lambda_step_log  # we put the normalize sampling rate in linear\n",
    "    dt=1./(freq*1e6)*lambda_step # this is the time step\n",
    "    t=np.arange(0,tend/1e6,dt)   \n",
    "    s=np.sin(np.pi*2*freq*1e6*t)+(np.random.random(t.shape)-0.5)*noise_level\n",
    "    return dt,t,s\n",
    "\n",
    "def TestLPButterworthFilter(order,SignalFreq,CutFrequency,tend,lambda_step_log,noise_level):\n",
    "    dt,t,s=GenSinusFunctionWithNoise(SignalFreq,tend,lambda_step_log,noise_level)\n",
    "    NyquistFreq=(1./dt/2.)\n",
    "    RatioCut=CutFrequency*1e6/NyquistFreq\n",
    "    b_c, a_c = signal.butter(order, RatioCut) #we design the filter\n",
    "    s_filtered=signal.lfilter(b_c,a_c,s) #we filter the signal\n",
    "    w,h=signal.freqz(b_c,a_c,worN=2000) #and we calculate the response function of the filter\n",
    "    \n",
    "    plt.figure(figsize=(16,6))\n",
    "    s1=plt.subplot(1,2,1)\n",
    "    s1.plot(t*1e6,s,'g:',t*1e6,s_filtered,'b-')\n",
    "    s1.legend(['noisy image','filtered signal'])\n",
    "    s1.set_xlabel('$\\mu$s')\n",
    "    plt.show()\n",
    "\n",
    "    s1=plt.subplot(1,2,2)\n",
    "    spectrum=(1./dt * 0.5 / np.pi) * w/1e6\n",
    "    gaindB=20.*np.log10(abs(h))\n",
    "    s1.plot( spectrum, gaindB, label=\"order = %d\" % order)\n",
    "    s1.set_xlabel('Frequency (MHz)')\n",
    "    s1.set_ylabel('Gain (dB)')\n",
    "    plt.show()\n",
    "    \n",
    "v=interact(TestLPButterworthFilter,order=IntSlider(value=6,min=2, max=12, step=1,width='400px'),\n",
    "           SignalFreq=FloatSlider(value=1.,min=0.1,max=2.0,step=0.1,width='400px'),\n",
    "           CutFrequency=FloatSlider(value=2.,min=0.,max=4.0,step=0.1,width='400px'),\n",
    "           tend=FloatSlider(value=10.,min=1.,max=30.,step=1.,width='400px'),\n",
    "           lambda_step_log=FloatSlider(value=-2.,min=-4.,max=np.log10(0.5),step=0.01,width='400px'),\n",
    "           noise_level=FloatSlider(value=0.5,min=0.,max=20.,step=0.05,width='400px'));\n",
    "    "
   ]
  },
  {
   "cell_type": "markdown",
   "metadata": {
    "nbpresent": {
     "id": "dcbd2a47-a2df-4f1e-b23f-0a0c2d2a6f70"
    },
    "slideshow": {
     "slide_type": "slide"
    }
   },
   "source": [
    "The default operation is that the ``TestButterworthFilter`` function is called as the sliders are being dragged. Sometimes this is not desirable as the functions involved may bee too slow to refresh. In that case it is better to manually specify the widget control for each parameter where the dynamic update only happens when the user release the mouse (``continuous_update=False``). Below there is a variant of previous example where the details for each of the controls are specified."
   ]
  },
  {
   "cell_type": "code",
   "execution_count": null,
   "metadata": {
    "collapsed": true,
    "nbpresent": {
     "id": "1ebc26f8-86f8-491f-b4b8-3fd2f1c59c82"
    },
    "slideshow": {
     "slide_type": "subslide"
    }
   },
   "outputs": [],
   "source": [
    "from scipy import signal\n",
    "from ipywidgets import interact,FloatSlider,IntSlider\n",
    "\n",
    "    \n",
    "v=interact(TestLPButterworthFilter,order=IntSlider(value=6,min=2, max=12, step=1,width='400px',continuous_update=False),\n",
    "           SignalFreq=FloatSlider(value=1.,min=0.1,max=2.0,step=0.1,width='400px',continuous_update=False),\n",
    "           CutFrequency=FloatSlider(value=2.,min=0.,max=4.0,step=0.1,width='400px',continuous_update=False),\n",
    "           tend=FloatSlider(value=10.,min=1.,max=30.,step=1.,width='400px',continuous_update=False),\n",
    "           lambda_step_log=FloatSlider(value=-2.,min=-4.,max=np.log10(0.5),step=0.01,width='400px',continuous_update=False),\n",
    "           noise_level=FloatSlider(value=0.5,min=0.,max=20.,step=0.05,width='400px',continuous_update=False))\n",
    "    "
   ]
  },
  {
   "cell_type": "markdown",
   "metadata": {
    "slideshow": {
     "slide_type": "subslide"
    }
   },
   "source": [
    "There are many other possibilities to arrange the widgets or use simpler text boxes instead of slider. You can consult the [ipywdigets documentation](http://ipywidgets.readthedocs.io/en/latest/index.html) for more advanced use."
   ]
  },
  {
   "cell_type": "markdown",
   "metadata": {
    "slideshow": {
     "slide_type": "slide"
    }
   },
   "source": [
    "# Data saving"
   ]
  },
  {
   "cell_type": "markdown",
   "metadata": {
    "slideshow": {
     "slide_type": "slide"
    }
   },
   "source": [
    "## Numpy method\n",
    "Numpy offers a straightforward method to save a group of arrays using the function ``numpy.savez``. Note that you need to give the name of the array that you want saved as or the array will be saved with a default name (ie the a=a, b=b, c=c in the example below)"
   ]
  },
  {
   "cell_type": "code",
   "execution_count": 1,
   "metadata": {
    "slideshow": {
     "slide_type": "subslide"
    }
   },
   "outputs": [
    {
     "name": "stdout",
     "output_type": "stream",
     "text": [
      "IF WE REACH hERE WE ARE ALL GOOD\n"
     ]
    }
   ],
   "source": [
    "import numpy as np\n",
    "from __future__ import print_function\n",
    "a=np.ones(102)\n",
    "b=np.zeros((13,45))\n",
    "c=np.random.random((100,450,60))\n",
    "\n",
    "np.savez('Data.npz',a=a,b=b,c=c)\n",
    "\n",
    "DataRead=np.load('Data.npz')\n",
    "assert(np.all(a==DataRead['a']))\n",
    "assert(np.all(b==DataRead['b']))\n",
    "assert(np.all(c==DataRead['c']))\n",
    "print ('IF WE REACH hERE WE ARE ALL GOOD')\n",
    "#if there is no error, that means all the matrices are the same in the file"
   ]
  },
  {
   "cell_type": "markdown",
   "metadata": {
    "slideshow": {
     "slide_type": "slide"
    }
   },
   "source": [
    "## HDF5 files with h5py\n",
    "Even if ``numpy.savez`` is *ok* for simple saving of data, it has the detrimental feature that files can only be opened in numpy. Using a more open format is always preferred. The [HDF5 library](https://support.hdfgroup.org/HDF5/) is pretty much the defacto library for serious saving of scientific data. Even Matlab is using now HDF5 as backend to create .mat files.  "
   ]
  },
  {
   "cell_type": "markdown",
   "metadata": {
    "slideshow": {
     "slide_type": "fragment"
    }
   },
   "source": [
    "HDF5 is, unfortunately, a very challenging library to master at its low-level. Fortunately, ``h5py`` is a well matured  Python wrapper for HDF5 libraries and has direct support for numpy arrays, so its use it is very straightforward."
   ]
  },
  {
   "cell_type": "markdown",
   "metadata": {
    "slideshow": {
     "slide_type": "subslide"
    }
   },
   "source": [
    "HDF5  has also a very powerful feature to store hierarchical data and uses a \"``filesytem``\" approach where objects can be accessed by path such as ``/group1/variable1``, ``/group1/anothersubgroup/variable2``, and so on."
   ]
  },
  {
   "cell_type": "code",
   "execution_count": 7,
   "metadata": {
    "collapsed": true,
    "run_control": {
     "breakpoint": false
    },
    "slideshow": {
     "slide_type": "fragment"
    }
   },
   "outputs": [],
   "source": [
    "import h5py\n",
    "h5file = h5py.File(\"test.h5\", \"w\")\n",
    "#these variables will be created in the root\n",
    "h5file.create_dataset(\"a\", data=a)\n",
    "h5file.create_dataset(\"b\", data=b)\n",
    "h5file.create_dataset(\"d\", data=np.array([]))\n",
    "h5file.create_dataset(\"st\", data='hola')\n",
    "\n",
    "#we create a subgroup and we add new variables there\n",
    "grp=h5file.create_group(\"sc\")\n",
    "grp.create_dataset('k',data=c)\n",
    "\n",
    "#Did I mention we can even fine-tune compression per\n",
    "#object basis? this can activate compression just in the objects that made sense\n",
    "\n",
    "grp.create_dataset(\"c\", data=c,compression=\"gzip\", compression_opts=9) \n",
    "h5file.close()"
   ]
  },
  {
   "cell_type": "markdown",
   "metadata": {
    "run_control": {
     "breakpoint": false
    },
    "slideshow": {
     "slide_type": "subslide"
    }
   },
   "source": [
    "When we open the file we can access the variable directly by their path."
   ]
  },
  {
   "cell_type": "code",
   "execution_count": 21,
   "metadata": {
    "slideshow": {
     "slide_type": "fragment"
    }
   },
   "outputs": [
    {
     "name": "stdout",
     "output_type": "stream",
     "text": [
      "<HDF5 dataset \"c\": shape (100, 450, 60), type \"<f8\">\n",
      "IF WE REACH hERE WE ARE ALL GOOD\n"
     ]
    }
   ],
   "source": [
    "#we open the file\n",
    "h5file = h5py.File(\"test.h5\", \"r\")\n",
    "assert(np.all(a==h5file['a']))\n",
    "assert(np.all(b==h5file['b']))\n",
    "assert(np.all(c==h5file['sc/c'])) \n",
    "print (h5file['/sc/c'])\n",
    "h5file.close()\n",
    "print ('IF WE REACH hERE WE ARE ALL GOOD')"
   ]
  },
  {
   "cell_type": "markdown",
   "metadata": {
    "slideshow": {
     "slide_type": "slide"
    }
   },
   "source": [
    "## For more complex data structures\n",
    "Python's two most basic types, ``dict`` and ``list``, are two the most powerful aspects of the language. However, combining lists and dictionaries with numpy makes difficult to find a simple method to save this type of mixed data structures.\n",
    "\n",
    "A very straightforward method is to use ``cPickle`` and serialize all the data structure."
   ]
  },
  {
   "cell_type": "code",
   "execution_count": 22,
   "metadata": {
    "run_control": {
     "breakpoint": false
    },
    "slideshow": {
     "slide_type": "fragment"
    }
   },
   "outputs": [
    {
     "ename": "ModuleNotFoundError",
     "evalue": "No module named 'cPickle'",
     "output_type": "error",
     "traceback": [
      "\u001b[1;31m---------------------------------------------------------------------------\u001b[0m",
      "\u001b[1;31mModuleNotFoundError\u001b[0m                       Traceback (most recent call last)",
      "\u001b[1;32m<ipython-input-22-e1304d0d0a21>\u001b[0m in \u001b[0;36m<module>\u001b[1;34m()\u001b[0m\n\u001b[1;32m----> 1\u001b[1;33m \u001b[1;32mimport\u001b[0m \u001b[0mcPickle\u001b[0m \u001b[1;32mas\u001b[0m \u001b[0mpickle\u001b[0m\u001b[1;33m\u001b[0m\u001b[0m\n\u001b[0m\u001b[0;32m      2\u001b[0m \u001b[1;33m\u001b[0m\u001b[0m\n\u001b[0;32m      3\u001b[0m ToSave={'a':a,\n\u001b[0;32m      4\u001b[0m         \u001b[1;34m'b'\u001b[0m\u001b[1;33m:\u001b[0m\u001b[0mb\u001b[0m\u001b[1;33m,\u001b[0m\u001b[1;33m\u001b[0m\u001b[0m\n\u001b[0;32m      5\u001b[0m         \u001b[1;34m'c'\u001b[0m\u001b[1;33m:\u001b[0m\u001b[0mc\u001b[0m\u001b[1;33m,\u001b[0m\u001b[1;33m\u001b[0m\u001b[0m\n",
      "\u001b[1;31mModuleNotFoundError\u001b[0m: No module named 'cPickle'"
     ]
    }
   ],
   "source": [
    "import cPickle as pickle \n",
    "\n",
    "ToSave={'a':a,\n",
    "        'b':b,\n",
    "        'c':c,\n",
    "        'a_list':[a,b,{'anothera':a,'k':None,'unicode':u'testing'}],\n",
    "        'a_scalar':45.6,\n",
    "        'some_text':'b lablablabla'}\n",
    " \n",
    "with file('SavePickle.pickle','wb') as f:\n",
    "    pickle.dump(ToSave,f,2)  #use protocol 2\n",
    "    "
   ]
  },
  {
   "cell_type": "code",
   "execution_count": 20,
   "metadata": {
    "slideshow": {
     "slide_type": "fragment"
    }
   },
   "outputs": [
    {
     "ename": "NameError",
     "evalue": "name 'file' is not defined",
     "output_type": "error",
     "traceback": [
      "\u001b[1;31m---------------------------------------------------------------------------\u001b[0m",
      "\u001b[1;31mNameError\u001b[0m                                 Traceback (most recent call last)",
      "\u001b[1;32m<ipython-input-20-25c0b487db36>\u001b[0m in \u001b[0;36m<module>\u001b[1;34m()\u001b[0m\n\u001b[1;32m----> 1\u001b[1;33m \u001b[1;32mwith\u001b[0m \u001b[0mfile\u001b[0m\u001b[1;33m(\u001b[0m\u001b[1;34m'SavePickle.pickle'\u001b[0m\u001b[1;33m,\u001b[0m\u001b[1;34m'rb'\u001b[0m\u001b[1;33m)\u001b[0m \u001b[1;32mas\u001b[0m \u001b[0mf\u001b[0m\u001b[1;33m:\u001b[0m\u001b[1;33m\u001b[0m\u001b[0m\n\u001b[0m\u001b[0;32m      2\u001b[0m    \u001b[0mDataLoaded\u001b[0m\u001b[1;33m=\u001b[0m\u001b[0mpickle\u001b[0m\u001b[1;33m.\u001b[0m\u001b[0mload\u001b[0m\u001b[1;33m(\u001b[0m\u001b[0mf\u001b[0m \u001b[1;33m)\u001b[0m\u001b[1;33m\u001b[0m\u001b[0m\n\u001b[0;32m      3\u001b[0m \u001b[1;33m\u001b[0m\u001b[0m\n\u001b[0;32m      4\u001b[0m \u001b[0mprint\u001b[0m\u001b[1;33m(\u001b[0m\u001b[0mDataLoaded\u001b[0m\u001b[1;33m[\u001b[0m\u001b[1;34m'a_list'\u001b[0m\u001b[1;33m]\u001b[0m\u001b[1;33m[\u001b[0m\u001b[1;36m2\u001b[0m\u001b[1;33m]\u001b[0m\u001b[1;33m[\u001b[0m\u001b[1;34m'unicode'\u001b[0m\u001b[1;33m]\u001b[0m\u001b[1;33m)\u001b[0m\u001b[1;33m\u001b[0m\u001b[0m\n\u001b[0;32m      5\u001b[0m \u001b[0mprint\u001b[0m\u001b[1;33m(\u001b[0m\u001b[0mDataLoaded\u001b[0m\u001b[1;33m[\u001b[0m\u001b[1;34m'a_scalar'\u001b[0m\u001b[1;33m]\u001b[0m\u001b[1;33m)\u001b[0m\u001b[1;33m\u001b[0m\u001b[0m\n",
      "\u001b[1;31mNameError\u001b[0m: name 'file' is not defined"
     ]
    }
   ],
   "source": [
    " with file('SavePickle.pickle','rb') as f:\n",
    "    DataLoaded=pickle.load(f )\n",
    "    \n",
    "print(DataLoaded['a_list'][2]['unicode'])\n",
    "print(DataLoaded['a_scalar'])\n",
    "print(DataLoaded['some_text'])\n",
    "print(DataLoaded['a_list'][1])"
   ]
  },
  {
   "cell_type": "markdown",
   "metadata": {
    "slideshow": {
     "slide_type": "subslide"
    }
   },
   "source": [
    "Pickle can be quite fast and easy to use, however there are several caveats:\n",
    "\n",
    "1. Data file is often bloated since it is saving a lot of extra information.\n",
    "2. It can be only opened in Python, then no capability to interact with other languages and tools.\n",
    "3. Nothing guarantees that the serialized object will be compatible with newer versions of libraries; this is especially true between objects saved in Python 2.7.X and 3.X.\n",
    "4. Pickle de-serialization is not secure, so corrupted files (even malicious files) can cause a mayhem.\n",
    "\n",
    "In general, pickle is more effective for short term storage and inter-processes communication."
   ]
  },
  {
   "cell_type": "markdown",
   "metadata": {
    "slideshow": {
     "slide_type": "slide"
    }
   },
   "source": [
    "## H5PY as a better solution for most common complex data\n",
    "Coming back to H5Py, it is not hard to create generalized libraries that can save the most common types of data:\n",
    "* lists\n",
    "* dictionaries\n",
    "* strings\n",
    "* numpy arrays\n",
    "* scalars"
   ]
  },
  {
   "cell_type": "code",
   "execution_count": 4,
   "metadata": {
    "slideshow": {
     "slide_type": "slide"
    }
   },
   "outputs": [
    {
     "ename": "TabError",
     "evalue": "inconsistent use of tabs and spaces in indentation (<ipython-input-4-5d10eef64e74>, line 64)",
     "output_type": "error",
     "traceback": [
      "\u001b[1;36m  File \u001b[1;32m\"<ipython-input-4-5d10eef64e74>\"\u001b[1;36m, line \u001b[1;32m64\u001b[0m\n\u001b[1;33m    fileobj.close() #if we receive a string, that means that we open and close the file\u001b[0m\n\u001b[1;37m                                                                                       ^\u001b[0m\n\u001b[1;31mTabError\u001b[0m\u001b[1;31m:\u001b[0m inconsistent use of tabs and spaces in indentation\n"
     ]
    }
   ],
   "source": [
    "import numpy\n",
    "import h5py\n",
    "def ProcType(k,v,f,compatibility,group):\n",
    "    nametype=type(v).__name__\n",
    "    if group==None:\n",
    "        group=f['/']\n",
    "\n",
    "    if  type(v)== dict:\n",
    "        newgroup=group.create_group(k)\n",
    "        newgroup.attrs[\"type\"]=\"dict\"\n",
    "        SaveToHDF5(v,f,compatibility,newgroup)\n",
    "    elif type(v) ==list:\n",
    "        newgroup=group.create_group(k)\n",
    "        newgroup.attrs[\"type\"]=\"list\";\n",
    "        for n in xrange(len(v)):\n",
    "            vlist=v[n]\n",
    "            itemname = \"item_%d\"%n\n",
    "            ProcType(itemname,vlist,f,compatibility,newgroup)\n",
    "    elif type(v) ==tuple:\n",
    "        nameList = k\n",
    "        newgroup=group.create_group(k)\n",
    "        newgroup.attrs[\"type\"]=\"tuple\"\n",
    "        for n in xrange(len(v)):\n",
    "            vlist=v(n)\n",
    "            itemname = \"item_%d\"%n\n",
    "            ProcType(itemname,vlist,f,compatibility,newgroup)\n",
    "    elif type(v) == numpy.ndarray :\n",
    "        ##we can apply compression rules for larger arrays\n",
    "        if v.nbytes >2**10: # if array takes more 1024 bytes\n",
    "            if compatibility:\n",
    "                ds=group.create_dataset(k, data=v,compression=\"lzf\") #this is very simple but accessible anywhere compressor, including matlab\n",
    "            else:\n",
    "                ds=group.create_dataset(k, data=v,compression=\"gzip\",compression_opts=9) #this gives the best compression\n",
    "        else:\n",
    "            ds=group.create_dataset(k, data=v)\n",
    "        ds.attrs[\"type\"]=\"ndarray\"\n",
    "    elif  type(v) ==str or  type(v)==unicode or type(v) == numpy.string_ or \\\n",
    "         type(v) ==numpy.unicode_ :\n",
    "        ##we'll apply compression rules for larger arrays\n",
    "        ds=group.create_dataset(k, data=v)\n",
    "        ds.attrs[\"type\"]=\"string\"\n",
    "    elif numpy.isscalar(v):\n",
    "        ds=group.create_dataset(k, data=v)\n",
    "        ds.attrs[\"type\"]=\"scalar\"\n",
    "    elif v==None:\n",
    "        ds=group.create_dataset(k, data=0)\n",
    "        ds.attrs[\"type\"]=\"None\"\n",
    "    else:\n",
    "        raise TypeError( \"Datatype not handled:\" + nametype)\n",
    "\n",
    "\n",
    "def SaveToHDF5(MyDict,f,compatibility=False,group=None):\n",
    "    if type(f)==str or type(f)==unicode:\n",
    "    \tfileobj=h5py.File(f, \"w\")\n",
    "    elif type(f)==h5py._hl.files.File:\n",
    "    \tfileobj=f\n",
    "    else:\n",
    "        raise TypeError( \"only string or h5py.file objects are accepted for 'f' object\")\n",
    "\n",
    "    if type(MyDict)!=dict or type(MyDict)==list:\n",
    "    \traise TypeError(\"Only dictionaries or lists are supported to be saved\")\n",
    "    for k, v in MyDict.iteritems():\n",
    "    \tProcType(k,v,fileobj,compatibility,group)\n",
    "    if type(f)==str or type(f)==unicode:\n",
    "\tfileobj.close() #if we receive a string, that means that we open and close the file\n",
    "\n",
    "def ReadFromHDF5(f,group=None):\n",
    "    if type(f)==str or type(f)==unicode:\n",
    "        fileobj=h5py.File(f, \"r\")\n",
    "    elif type(f)==h5py._hl.files.File:\n",
    "        fileobj=f\n",
    "    else:\n",
    "        raise TypeError( \"only string or h5py.file objects are accepted for 'f' object\")\n",
    "    if group==None:\n",
    "        group=fileobj\n",
    "    MyDict={}\n",
    "    for namevar,val in group.iteritems():\n",
    "        \n",
    "        NameList=None\n",
    "        typeattr=val.attrs[\"type\"]\n",
    "        if type(val)==h5py._hl.group.Group:\n",
    "            ValGroup=ReadFromHDF5(fileobj,val)\n",
    "            if typeattr==\"list\" or  typeattr==\"tuple\" :\n",
    "                NameList=namevar\n",
    "            if NameList!=None:\n",
    "                ListVal=[]\n",
    "                for n in xrange(len(ValGroup)):\n",
    "                    itemname = \"item_%d\"%n\n",
    "                    ListVal.append(ValGroup[itemname])\n",
    "                if typeattr==\"list\":\n",
    "                    MyDict[NameList] = ListVal\n",
    "                else:\n",
    "                    MyDict[NameList] = tuple(ListVal)\n",
    "            else:\n",
    "                MyDict[namevar] = ValGroup\n",
    "        elif typeattr == \"None\":\n",
    "             MyDict[namevar]=None\n",
    "        else:\n",
    "            MyDict[namevar] = val.value\n",
    "    if type(f)==str or type(f)==unicode:\n",
    "        fileobj.close()\n",
    "    return MyDict"
   ]
  },
  {
   "cell_type": "code",
   "execution_count": null,
   "metadata": {
    "collapsed": true,
    "slideshow": {
     "slide_type": "subslide"
    }
   },
   "outputs": [],
   "source": [
    "ToSave={'a':a,\n",
    "        'b':b,\n",
    "        'c':c,\n",
    "        'a_list':[a,b,{'anothera':a,'k':None,'unicode':u'testing'}],\n",
    "        'a_scalar':45.6,\n",
    "        'some_text':'blablablabla'}\n",
    "SaveToHDF5(ToSave,'test3.h5')"
   ]
  },
  {
   "cell_type": "code",
   "execution_count": null,
   "metadata": {
    "collapsed": true,
    "slideshow": {
     "slide_type": "fragment"
    }
   },
   "outputs": [],
   "source": [
    "R=ReadFromHDF5('test3.h5')\n",
    "print (R['a_list'][2]['unicode'])\n",
    "print (R['a_scalar'] ) \n",
    "print(R['some_text'])\n",
    "print(R['a_list'][1])\n"
   ]
  },
  {
   "cell_type": "markdown",
   "metadata": {
    "slideshow": {
     "slide_type": "slide"
    }
   },
   "source": [
    "### Lets push a little the test\n",
    "We have a pickle file that has large amount of data from an MR image. It has the actual pixel value for the image but it also has information about the scanner used, when it was acquired, the time it was acquired, and much more.\n",
    "The function below will print the elements in the file and handle them differently if they were list, dict or other. "
   ]
  },
  {
   "cell_type": "code",
   "execution_count": 3,
   "metadata": {
    "run_control": {
     "breakpoint": false
    },
    "scrolled": true,
    "slideshow": {
     "slide_type": "fragment"
    }
   },
   "outputs": [
    {
     "ename": "NameError",
     "evalue": "name 'file' is not defined",
     "output_type": "error",
     "traceback": [
      "\u001b[1;31m---------------------------------------------------------------------------\u001b[0m",
      "\u001b[1;31mNameError\u001b[0m                                 Traceback (most recent call last)",
      "\u001b[1;32m<ipython-input-3-ba839d2df91b>\u001b[0m in \u001b[0;36m<module>\u001b[1;34m()\u001b[0m\n\u001b[0;32m     11\u001b[0m         \u001b[0mprint\u001b[0m\u001b[1;33m(\u001b[0m\u001b[0mhmarker\u001b[0m\u001b[1;33m+\u001b[0m\u001b[1;34m':'\u001b[0m\u001b[1;33m+\u001b[0m\u001b[0mstr\u001b[0m\u001b[1;33m(\u001b[0m\u001b[0mtype\u001b[0m\u001b[1;33m(\u001b[0m   \u001b[0mVariable\u001b[0m\u001b[1;33m)\u001b[0m\u001b[1;33m)\u001b[0m\u001b[1;33m)\u001b[0m\u001b[1;33m\u001b[0m\u001b[0m\n\u001b[0;32m     12\u001b[0m \u001b[1;33m\u001b[0m\u001b[0m\n\u001b[1;32m---> 13\u001b[1;33m \u001b[1;32mwith\u001b[0m \u001b[0mfile\u001b[0m \u001b[1;33m(\u001b[0m\u001b[1;34m'RetroControl_Ser33.Pickle'\u001b[0m \u001b[1;33m,\u001b[0m\u001b[1;34m'rb'\u001b[0m\u001b[1;33m)\u001b[0m \u001b[1;32mas\u001b[0m \u001b[0mf\u001b[0m\u001b[1;33m:\u001b[0m\u001b[1;33m\u001b[0m\u001b[0m\n\u001b[0m\u001b[0;32m     14\u001b[0m     \u001b[0mLargeMRIData\u001b[0m\u001b[1;33m=\u001b[0m\u001b[0mpickle\u001b[0m\u001b[1;33m.\u001b[0m\u001b[0mload\u001b[0m\u001b[1;33m(\u001b[0m\u001b[0mf\u001b[0m\u001b[1;33m)\u001b[0m\u001b[1;33m\u001b[0m\u001b[0m\n\u001b[0;32m     15\u001b[0m \u001b[1;33m\u001b[0m\u001b[0m\n",
      "\u001b[1;31mNameError\u001b[0m: name 'file' is not defined"
     ]
    }
   ],
   "source": [
    "def PrintElemens(Variable,hmarker=''):\n",
    "    if type(Variable)==list:\n",
    "        print(hmarker+'[ list]')\n",
    "        for entry in Variable:\n",
    "            PrintElemens(entry,hmarker+'.')\n",
    "    elif type(Variable)==dict:\n",
    "        for name,entry in Variable.iteritems():\n",
    "            #print(hmarker+name+'[dict]:')\n",
    "            PrintElemens(entry,hmarker+name+'.')\n",
    "    else:\n",
    "        print(hmarker+':'+str(type(   Variable)))\n",
    "            \n",
    "with file ('RetroControl_Ser33.Pickle' ,'rb') as f:\n",
    "    LargeMRIData=pickle.load(f)\n",
    "    \n",
    "PrintElemens(LargeMRIData)  "
   ]
  },
  {
   "cell_type": "markdown",
   "metadata": {
    "slideshow": {
     "slide_type": "slide"
    }
   },
   "source": [
    "We will now save it as ah HDF5 file, and then read it from that file. Finally, we will compare the images that come from the data that was in the pickle to the one in the HDF5 and ensuring that they are the same."
   ]
  },
  {
   "cell_type": "code",
   "execution_count": null,
   "metadata": {
    "collapsed": true,
    "run_control": {
     "breakpoint": false
    },
    "slideshow": {
     "slide_type": "fragment"
    }
   },
   "outputs": [],
   "source": [
    "SaveToHDF5(LargeMRIData,'LargeMRIData.hdf5') "
   ]
  },
  {
   "cell_type": "code",
   "execution_count": null,
   "metadata": {
    "collapsed": true,
    "run_control": {
     "breakpoint": false
    },
    "slideshow": {
     "slide_type": "subslide"
    }
   },
   "outputs": [],
   "source": [
    "LargeMRIDataH5=ReadFromHDF5('LargeMRIData.hdf5') "
   ]
  },
  {
   "cell_type": "markdown",
   "metadata": {},
   "source": [
    "LargeMRIData (to be copied to Im1) comes from the pickle, LargeMRIDataH5 (to be copied to Im2) comes from the HDF5 read. This data has many images and we will access image number 30"
   ]
  },
  {
   "cell_type": "code",
   "execution_count": null,
   "metadata": {
    "collapsed": true,
    "run_control": {
     "breakpoint": false
    },
    "slideshow": {
     "slide_type": "fragment"
    }
   },
   "outputs": [],
   "source": [
    "%matplotlib inline\n",
    "import matplotlib.pyplot as plt\n",
    "Im1=LargeMRIData['IMAGES']['Coronal']['Magnitude'][30][0]['data']\n",
    "Im2=LargeMRIDataH5['IMAGES']['Coronal']['Magnitude'][30][0]['data']\n",
    "\n",
    "plt.figure(figsize=(12,5))\n",
    "plt.subplot(1,2,1)\n",
    "m=plt.imshow(Im1,cmap=plt.cm.gray)\n",
    "plt.colorbar(m)\n",
    "plt.subplot(1,2,2)\n",
    "mm=plt.imshow(Im2,cmap=plt.cm.gray)\n",
    "plt.colorbar(m);\n",
    "assert(np.all(Im1==Im2))\n",
    "print ('we are good')\n"
   ]
  },
  {
   "cell_type": "markdown",
   "metadata": {
    "run_control": {
     "breakpoint": false
    },
    "slideshow": {
     "slide_type": "slide"
    }
   },
   "source": [
    "Reading from a HDF5 file is a bit slower that pickle. Let's use %prun to quantify."
   ]
  },
  {
   "cell_type": "code",
   "execution_count": null,
   "metadata": {
    "collapsed": true,
    "run_control": {
     "breakpoint": false
    },
    "slideshow": {
     "slide_type": "fragment"
    }
   },
   "outputs": [],
   "source": [
    "%prun LargeMRIDataH5=ReadFromHDF5('LargeMRIData.hdf5')   "
   ]
  },
  {
   "cell_type": "code",
   "execution_count": null,
   "metadata": {
    "collapsed": true,
    "run_control": {
     "breakpoint": false
    },
    "slideshow": {
     "slide_type": "fragment"
    }
   },
   "outputs": [],
   "source": [
    "def ReadFromPickle():\n",
    "    with file ('RetroControl_Ser33.Pickle' ,'rb') as f:\n",
    "        LargeMRIData=pickle.load(f)\n",
    "    return LargeMRIData \n",
    "%prun LargeMRIData=ReadFromPickle()"
   ]
  },
  {
   "cell_type": "markdown",
   "metadata": {
    "run_control": {
     "breakpoint": false
    },
    "slideshow": {
     "slide_type": "slide"
    }
   },
   "source": [
    "**But HDF5/H5PY is designed for random/file-system access!**"
   ]
  },
  {
   "cell_type": "code",
   "execution_count": null,
   "metadata": {
    "collapsed": true,
    "run_control": {
     "breakpoint": false
    },
    "slideshow": {
     "slide_type": "fragment"
    }
   },
   "outputs": [],
   "source": [
    "def GetAnImage():\n",
    "    h5=h5py.File('LargeMRIData.hdf5','r')\n",
    "    Im=h5['IMAGES']['Coronal']['Magnitude']['item_30']['item_0']['data'].value\n",
    "    h5.close()\n",
    "    return Im\n",
    "%prun Im=GetAnImage()\n",
    "plt.imshow(Im,cmap=plt.cm.gray);"
   ]
  },
  {
   "cell_type": "markdown",
   "metadata": {
    "run_control": {
     "breakpoint": false
    },
    "slideshow": {
     "slide_type": "slide"
    }
   },
   "source": [
    "We can use a file path to access items"
   ]
  },
  {
   "cell_type": "code",
   "execution_count": null,
   "metadata": {
    "collapsed": true,
    "run_control": {
     "breakpoint": false
    },
    "slideshow": {
     "slide_type": "fragment"
    }
   },
   "outputs": [],
   "source": [
    "def GetDataPath(path='/IMAGES/Coronal/Magnitude/item_30/item_0/data'):\n",
    "    h5=h5py.File('LargeMRIData.hdf5','r')\n",
    "    Im=h5[path].value\n",
    "    h5.close()\n",
    "    return Im\n",
    "%prun Im=GetDataPath()\n",
    "plt.imshow(Im,cmap=plt.cm.gray);"
   ]
  },
  {
   "cell_type": "markdown",
   "metadata": {
    "run_control": {
     "breakpoint": false
    },
    "slideshow": {
     "slide_type": "slide"
    }
   },
   "source": [
    "We can even replace data inside the file (as long as the shape and type of the arrays remain the same)"
   ]
  },
  {
   "cell_type": "code",
   "execution_count": 17,
   "metadata": {
    "collapsed": true,
    "run_control": {
     "breakpoint": false
    },
    "slideshow": {
     "slide_type": "fragment"
    }
   },
   "outputs": [],
   "source": [
    "def ReplaceData(NewData,path='/IMAGES/Coronal/Magnitude/item_30/item_0/data'):\n",
    "    h5=h5py.File('LargeMRIData.hdf5','r+') #note the difference\n",
    "    h5[path][...]=NewData #PLEASE NOTE THIS ONLY WORKS IF THE SIZE OF DATA IS THE SAME\n",
    "    h5.close()"
   ]
  },
  {
   "cell_type": "code",
   "execution_count": 21,
   "metadata": {
    "run_control": {
     "breakpoint": false
    },
    "slideshow": {
     "slide_type": "fragment"
    }
   },
   "outputs": [
    {
     "data": {
      "image/png": "[encoded data removed]",
      "text/plain": [
       "<matplotlib.figure.Figure at 0x13e071d0>"
      ]
     },
     "metadata": {},
     "output_type": "display_data"
    }
   ],
   "source": [
    "NewData=np.random.random(Im.shape)\n",
    "ReplaceData(NewData)   \n",
    "ImNew=GetDataPath()\n",
    "plt.imshow(ImNew,cmap=plt.cm.gray);  "
   ]
  },
  {
   "cell_type": "markdown",
   "metadata": {
    "run_control": {
     "breakpoint": false
    },
    "slideshow": {
     "slide_type": "slide"
    }
   },
   "source": [
    "And of course we can add new data"
   ]
  },
  {
   "cell_type": "code",
   "execution_count": 30,
   "metadata": {
    "run_control": {
     "breakpoint": false
    },
    "slideshow": {
     "slide_type": "fragment"
    }
   },
   "outputs": [
    {
     "name": "stdout",
     "output_type": "stream",
     "text": [
      "(100L, 344L, 34L)\n"
     ]
    }
   ],
   "source": [
    "def AddData(DataName,NewData,fname='LargeMRIData.hdf5',path='/IMAGES/Coronal/Magnitude'):\n",
    "    h5=h5py.File(fname,'r+') #note the difference\n",
    "    group=h5[path] \n",
    "    group.create_dataset(DataName,data=NewData,compression=\"gzip\",compression_opts=9)\n",
    "    h5.close()\n",
    "                         \n",
    "NewBlob=np.random.random((100,344,34))\n",
    "AddData('Blob',NewBlob,path='/IMAGES')\n",
    "\n",
    "ReadNewBlob=GetDataPath(path='/IMAGES/Blob')\n",
    "print(ReadNewBlob.shape)\n",
    "                           "
   ]
  },
  {
   "cell_type": "markdown",
   "metadata": {
    "run_control": {
     "breakpoint": false
    },
    "slideshow": {
     "slide_type": "slide"
    }
   },
   "source": [
    "# Final remarks\n"
   ]
  },
  {
   "cell_type": "markdown",
   "metadata": {
    "slideshow": {
     "slide_type": "slide"
    }
   },
   "source": [
    "There is still a ton of resources that can be covered:\n",
    "* GUIs : PySide, PyQT, Wx"
   ]
  },
  {
   "cell_type": "markdown",
   "metadata": {},
   "source": [
    "* Getting ready for Python 3 \n",
    "* **Multi-processing with Jupyter**\n",
    "* Even more specialized visualization methods: [**Chaco**](http://docs.enthought.com/chaco/), [**Mayavi**](http://docs.enthought.com/mayavi/mayavi/_), [lighting](https://nbviewer.jupyter.org/github/lightning-viz/lightning-example-notebooks/blob/master/index.ipynb), [Bokeh](https://nbviewer.jupyter.org/github/bokeh/bokeh-notebooks/blob/master/index.ipynb), [plotly](https://nbviewer.jupyter.org/github/plotly/python-user-guide/blob/master/Index.ipynb), [PyQtGraph](http://www.pyqtgraph.org/),...\n",
    "* Integration with GPUs with [PyCUDA](https://mathema.tician.de/software/pycuda/)\n",
    "* Use of Cython"
   ]
  },
  {
   "cell_type": "markdown",
   "metadata": {
    "collapsed": true,
    "run_control": {
     "breakpoint": false
    },
    "slideshow": {
     "slide_type": "subslide"
    }
   },
   "source": [
    "* Use in clusters with PyMPI\n",
    "* Device control\n",
    "* Data analysis with [Pandas](http://pandas.pydata.org/)\n",
    "* Interface with [R](https://www.r-project.org/) for serious stats\n",
    "* Genetic optimization with [Pygmo](http://esa.github.io/pygmo/)\n",
    "* 89683 extra software libraries currently available with ``pip`` (as for Sep 29, 2016)"
   ]
  },
  {
   "cell_type": "markdown",
   "metadata": {
    "collapsed": true,
    "run_control": {
     "breakpoint": false
    },
    "slideshow": {
     "slide_type": "slide"
    }
   },
   "source": [
    "Python has probably the most comprehensive set of libraries *freely* available for numerical work available in any language.\n",
    "\n",
    "From the small scale numerical work all the way to large scale simulation, there are a lot of available tools ready to be used.\n",
    "\n",
    "Slides presentation of this notebook was possible by using the [``nbextension RISE``](https://github.com/damianavila/RISE)"
   ]
  },
  {
   "cell_type": "markdown",
   "metadata": {
    "slideshow": {
     "slide_type": "slide"
    }
   },
   "source": [
    "Test your knowledge:\n",
    "\n",
    "In the code above:\n",
    "1. In the **Data Saving** section, debug or print both variables a, or b, or c to visually assert the read and saved data are the same\n",
    "2. In the cell where the image is replaced within a file, do your own replacement to have a completely black image\n",
    "3. In any other section of **Data Saving** with the pickle file, display other fields that those shown (for instance, a different image from that file)"
   ]
  },
  {
   "cell_type": "markdown",
   "metadata": {},
   "source": [
    "# In the **Data Saving** section, debug or print both variables a, or b, or c to visually assert the read and saved data are the same"
   ]
  },
  {
   "cell_type": "code",
   "execution_count": 2,
   "metadata": {},
   "outputs": [
    {
     "name": "stdout",
     "output_type": "stream",
     "text": [
      "IF WE REACH hERE WE ARE ALL GOOD\n",
      "[ 1.  1.  1.  1.  1.  1.  1.  1.  1.  1.  1.  1.  1.  1.  1.  1.  1.  1.\n",
      "  1.  1.  1.  1.  1.  1.  1.  1.  1.  1.  1.  1.  1.  1.  1.  1.  1.  1.\n",
      "  1.  1.  1.  1.  1.  1.  1.  1.  1.  1.  1.  1.  1.  1.  1.  1.  1.  1.\n",
      "  1.  1.  1.  1.  1.  1.  1.  1.  1.  1.  1.  1.  1.  1.  1.  1.  1.  1.\n",
      "  1.  1.  1.  1.  1.  1.  1.  1.  1.  1.  1.  1.  1.  1.  1.  1.  1.  1.\n",
      "  1.  1.  1.  1.  1.  1.  1.  1.  1.  1.  1.  1.]\n",
      "[ 1.  1.  1.  1.  1.  1.  1.  1.  1.  1.  1.  1.  1.  1.  1.  1.  1.  1.\n",
      "  1.  1.  1.  1.  1.  1.  1.  1.  1.  1.  1.  1.  1.  1.  1.  1.  1.  1.\n",
      "  1.  1.  1.  1.  1.  1.  1.  1.  1.  1.  1.  1.  1.  1.  1.  1.  1.  1.\n",
      "  1.  1.  1.  1.  1.  1.  1.  1.  1.  1.  1.  1.  1.  1.  1.  1.  1.  1.\n",
      "  1.  1.  1.  1.  1.  1.  1.  1.  1.  1.  1.  1.  1.  1.  1.  1.  1.  1.\n",
      "  1.  1.  1.  1.  1.  1.  1.  1.  1.  1.  1.  1.]\n"
     ]
    }
   ],
   "source": [
    "import numpy as np\n",
    "from __future__ import print_function\n",
    "a=np.ones(102)\n",
    "b=np.zeros((13,45))\n",
    "c=np.random.random((100,450,60))\n",
    "\n",
    "np.savez('Data.npz',a=a,b=b,c=c)\n",
    "\n",
    "DataRead=np.load('Data.npz')\n",
    "assert(np.all(a==DataRead['a']))\n",
    "assert(np.all(b==DataRead['b']))\n",
    "assert(np.all(c==DataRead['c']))\n",
    "print ('IF WE REACH hERE WE ARE ALL GOOD')\n",
    "#if there is no error, that means all the matrices are the same in the file\n",
    "print(a)\n",
    "print(DataRead['a'])"
   ]
  },
  {
   "cell_type": "markdown",
   "metadata": {},
   "source": [
    "# In the cell where the image is replaced within a file, do your own replacement to have a completely black image. In any other section of **Data Saving** with the pickle file, display other fields that those shown (for instance, a different image from that file)"
   ]
  },
  {
   "cell_type": "markdown",
   "metadata": {
    "collapsed": true
   },
   "source": [
    "Apologies, as I am still unable to run most of the code without getting an error. But as you mentioned, for obtaining a black image, the file could be written with 0's RGB(0,0,0). "
   ]
  },
  {
   "cell_type": "code",
   "execution_count": null,
   "metadata": {},
   "outputs": [],
   "source": [
    "\n"
   ]
  }
 ],
 "metadata": {
  "anaconda-cloud": {},
  "celltoolbar": "Slideshow",
  "hide_input": false,
  "kernelspec": {
   "display_name": "Python 3",
   "language": "python",
   "name": "python3"
  },
  "language_info": {
   "codemirror_mode": {
    "name": "ipython",
    "version": 3
   },
   "file_extension": ".py",
   "mimetype": "text/x-python",
   "name": "python",
   "nbconvert_exporter": "python",
   "pygments_lexer": "ipython3",
   "version": "3.6.1"
  },
  "livereveal": {
   "scroll": true,
   "start_slideshow_at": "selected",
   "theme": "sky",
   "transition": "fade"
  },
  "nav_menu": {},
  "nbpresent": {
   "slides": {
    "0030a00c-d724-4d0e-95be-b0ef10598225": {
     "id": "0030a00c-d724-4d0e-95be-b0ef10598225",
     "prev": "e4471ed1-4b42-448d-a831-5b26ba552e24",
     "regions": {
      "9c252f21-509a-417b-a99e-d3db64dd6d7b": {
       "attrs": {
        "height": 0.8,
        "width": 0.8,
        "x": 0.1,
        "y": 0.1
       },
       "content": {
        "cell": "436c1e74-fd96-4c2e-a9c1-401546aed86a",
        "part": "whole"
       },
       "id": "9c252f21-509a-417b-a99e-d3db64dd6d7b"
      }
     }
    },
    "07b7dd20-585f-4a58-affb-8089aa0e63be": {
     "id": "07b7dd20-585f-4a58-affb-8089aa0e63be",
     "prev": "89164bbd-92de-4d6e-96d8-a79f970a5786",
     "regions": {
      "21cd8408-e59c-4d83-8e0c-d60104436375": {
       "attrs": {
        "height": 0.8,
        "width": 0.8,
        "x": 0.1,
        "y": 0.1
       },
       "content": {
        "cell": "52444dbb-49d8-4593-ac58-e93e8b547897",
        "part": "whole"
       },
       "id": "21cd8408-e59c-4d83-8e0c-d60104436375"
      }
     }
    },
    "082ca857-7b58-41d2-b69f-c7ffdfaa2547": {
     "id": "082ca857-7b58-41d2-b69f-c7ffdfaa2547",
     "prev": "7d2d7f3b-00a5-446f-a8ab-e57483e9e39e",
     "regions": {
      "5141493a-eefd-4a9e-9661-339fb2dc0869": {
       "attrs": {
        "height": 0.8,
        "width": 0.8,
        "x": 0.1,
        "y": 0.1
       },
       "content": {
        "cell": "c7044b39-2477-4062-8c2c-996513427623",
        "part": "whole"
       },
       "id": "5141493a-eefd-4a9e-9661-339fb2dc0869"
      }
     }
    },
    "11ca2b9e-77a7-42b7-99e8-ccd27d11e9cf": {
     "id": "11ca2b9e-77a7-42b7-99e8-ccd27d11e9cf",
     "prev": "454a1ac9-4667-4f70-b694-3bbafc6617a5",
     "regions": {
      "4e3d0a9a-05d3-4da1-9938-a2318c822dd4": {
       "attrs": {
        "height": 0.8,
        "width": 0.8,
        "x": 0.1,
        "y": 0.1
       },
       "content": {
        "cell": "e6aba7c0-2c46-4f5c-befa-c259e58f2b22",
        "part": "whole"
       },
       "id": "4e3d0a9a-05d3-4da1-9938-a2318c822dd4"
      }
     }
    },
    "12b169a7-bd63-4b09-8a34-d52957dc51e9": {
     "id": "12b169a7-bd63-4b09-8a34-d52957dc51e9",
     "prev": "07b7dd20-585f-4a58-affb-8089aa0e63be",
     "regions": {
      "fc902f0f-2f0b-400f-bc16-955efa2988ee": {
       "attrs": {
        "height": 0.8,
        "width": 0.8,
        "x": 0.1,
        "y": 0.1
       },
       "content": {
        "cell": "97be8bdb-29e8-4df4-9fa2-a9779eb32b72",
        "part": "whole"
       },
       "id": "fc902f0f-2f0b-400f-bc16-955efa2988ee"
      }
     }
    },
    "1bfb3d2c-933b-4769-b81c-208266fc7a1c": {
     "id": "1bfb3d2c-933b-4769-b81c-208266fc7a1c",
     "prev": "96cec3f8-2ab9-4f93-9566-74636626ffc1",
     "regions": {
      "7fa28ec9-d412-48bc-86fc-23f416223171": {
       "attrs": {
        "height": 0.8,
        "width": 0.8,
        "x": 0.1,
        "y": 0.1
       },
       "content": {
        "cell": "b272b2e9-0949-4534-ac41-5749ef6955e3",
        "part": "whole"
       },
       "id": "7fa28ec9-d412-48bc-86fc-23f416223171"
      }
     }
    },
    "1e9d3f2f-ffc0-420d-8f36-033017b15f81": {
     "id": "1e9d3f2f-ffc0-420d-8f36-033017b15f81",
     "prev": "64b4cf74-993b-4d65-8be7-1ea0fafa5396",
     "regions": {
      "68ac03c9-97ac-427d-9600-06699e4a3900": {
       "attrs": {
        "height": 0.8,
        "width": 0.8,
        "x": 0.1,
        "y": 0.1
       },
       "content": {
        "cell": "a7ccbd6d-5aa3-4bb1-bf8e-e06a40708556",
        "part": "whole"
       },
       "id": "68ac03c9-97ac-427d-9600-06699e4a3900"
      }
     }
    },
    "305f6a45-b536-4aec-b51a-34fd336e3ad2": {
     "id": "305f6a45-b536-4aec-b51a-34fd336e3ad2",
     "prev": "1bfb3d2c-933b-4769-b81c-208266fc7a1c",
     "regions": {
      "41f991e1-90b4-44bd-95cb-cbcc4783f571": {
       "attrs": {
        "height": 0.8,
        "width": 0.8,
        "x": 0.1,
        "y": 0.1
       },
       "content": {
        "cell": "45e18caf-923f-407a-87ae-5bfabd3e8581",
        "part": "whole"
       },
       "id": "41f991e1-90b4-44bd-95cb-cbcc4783f571"
      }
     }
    },
    "36767eda-5298-4c9d-8529-9db83c8f510d": {
     "id": "36767eda-5298-4c9d-8529-9db83c8f510d",
     "prev": "3d3cc242-cccf-4713-a720-6415dd114532",
     "regions": {
      "890a95e5-6019-4393-80ee-aacce698a237": {
       "attrs": {
        "height": 0.8,
        "width": 0.8,
        "x": 0.1,
        "y": 0.1
       },
       "content": {
        "cell": "8dde5986-5095-48f1-b164-ce625ea27242",
        "part": "whole"
       },
       "id": "890a95e5-6019-4393-80ee-aacce698a237"
      }
     }
    },
    "3d3cc242-cccf-4713-a720-6415dd114532": {
     "id": "3d3cc242-cccf-4713-a720-6415dd114532",
     "prev": "0030a00c-d724-4d0e-95be-b0ef10598225",
     "regions": {
      "74f72179-b6a6-4617-8168-5f12b8905c04": {
       "attrs": {
        "height": 0.8,
        "width": 0.8,
        "x": 0.1,
        "y": 0.1
       },
       "content": {
        "cell": "1e1715ef-5206-4775-9706-b1c633a84f29",
        "part": "whole"
       },
       "id": "74f72179-b6a6-4617-8168-5f12b8905c04"
      }
     }
    },
    "448916cf-ee96-48dc-b80f-20565841f33f": {
     "id": "448916cf-ee96-48dc-b80f-20565841f33f",
     "prev": "1e9d3f2f-ffc0-420d-8f36-033017b15f81",
     "regions": {
      "78e07faa-cb90-4d23-88e7-b3d52316901a": {
       "attrs": {
        "height": 0.8,
        "width": 0.8,
        "x": 0.1,
        "y": 0.1
       },
       "content": {
        "cell": "c5debbfc-089b-46d4-b9e2-f128b052222c",
        "part": "whole"
       },
       "id": "78e07faa-cb90-4d23-88e7-b3d52316901a"
      }
     }
    },
    "454a1ac9-4667-4f70-b694-3bbafc6617a5": {
     "id": "454a1ac9-4667-4f70-b694-3bbafc6617a5",
     "prev": "ec5b5c32-7d2a-441e-9b77-7d011ac4e9f7",
     "regions": {
      "1f46a0bf-740b-45db-8a0e-a766af15d274": {
       "attrs": {
        "height": 0.8,
        "width": 0.8,
        "x": 0.1,
        "y": 0.1
       },
       "content": {
        "cell": "04037ede-b18b-447b-80fb-e22ad4438771",
        "part": "whole"
       },
       "id": "1f46a0bf-740b-45db-8a0e-a766af15d274"
      }
     }
    },
    "493199b6-cacb-496c-9dcb-dccc2d57295b": {
     "id": "493199b6-cacb-496c-9dcb-dccc2d57295b",
     "prev": "12b169a7-bd63-4b09-8a34-d52957dc51e9",
     "regions": {
      "9df0021a-7e33-4f9c-a766-e5d002f4f1f6": {
       "attrs": {
        "height": 0.8,
        "width": 0.8,
        "x": 0.1,
        "y": 0.1
       },
       "content": {
        "cell": "e5949448-a2ac-4134-98b2-16d8b34228a3",
        "part": "whole"
       },
       "id": "9df0021a-7e33-4f9c-a766-e5d002f4f1f6"
      }
     }
    },
    "58ab128d-0d3b-41d3-8345-be48b431748d": {
     "id": "58ab128d-0d3b-41d3-8345-be48b431748d",
     "prev": "448916cf-ee96-48dc-b80f-20565841f33f",
     "regions": {
      "4615ff6e-651a-4111-a6ee-2726ca81be6d": {
       "attrs": {
        "height": 0.8,
        "width": 0.8,
        "x": 0.1,
        "y": 0.1
       },
       "content": {
        "cell": "f8987081-f925-420c-9599-73263a61c60a",
        "part": "whole"
       },
       "id": "4615ff6e-651a-4111-a6ee-2726ca81be6d"
      }
     }
    },
    "64b4cf74-993b-4d65-8be7-1ea0fafa5396": {
     "id": "64b4cf74-993b-4d65-8be7-1ea0fafa5396",
     "prev": "b0b2a2db-eb03-4a4e-a86a-6219a962b022",
     "regions": {
      "ae35a1a0-306a-4b3b-bef4-940c045dc467": {
       "attrs": {
        "height": 0.8,
        "width": 0.8,
        "x": 0.1,
        "y": 0.1
       },
       "content": {
        "cell": "a2bc9f72-3f20-4f7a-a972-8a4a40312966",
        "part": "whole"
       },
       "id": "ae35a1a0-306a-4b3b-bef4-940c045dc467"
      }
     }
    },
    "6aaded3a-69e7-4963-8016-cb1eb6a51d4f": {
     "id": "6aaded3a-69e7-4963-8016-cb1eb6a51d4f",
     "prev": "965c9008-46a1-43c4-989d-c4e0be2cd2cf",
     "regions": {
      "460da010-6921-44d2-80b2-6382f35bd154": {
       "attrs": {
        "height": 0.8,
        "width": 0.8,
        "x": 0.1,
        "y": 0.1
       },
       "content": {
        "cell": "81f3c8a2-4596-41ca-8c3b-01ee82816438",
        "part": "whole"
       },
       "id": "460da010-6921-44d2-80b2-6382f35bd154"
      }
     }
    },
    "7d2d7f3b-00a5-446f-a8ab-e57483e9e39e": {
     "id": "7d2d7f3b-00a5-446f-a8ab-e57483e9e39e",
     "prev": "96807ca0-5852-40eb-ae64-e2042cb8c406",
     "regions": {
      "d308947b-ad75-4eb6-83ef-c1eba4a1b3cd": {
       "attrs": {
        "height": 0.8,
        "width": 0.8,
        "x": 0.1,
        "y": 0.1
       },
       "content": {
        "cell": "45eba407-5660-448e-a286-0c347e9017ef",
        "part": "whole"
       },
       "id": "d308947b-ad75-4eb6-83ef-c1eba4a1b3cd"
      }
     }
    },
    "89164bbd-92de-4d6e-96d8-a79f970a5786": {
     "id": "89164bbd-92de-4d6e-96d8-a79f970a5786",
     "prev": "ac465ff4-7b94-478f-8eba-41a24ca776ab",
     "regions": {
      "e6418ede-5f25-437c-9b3f-913933048bc3": {
       "attrs": {
        "height": 0.8,
        "width": 0.8,
        "x": 0.1,
        "y": 0.1
       },
       "content": {
        "cell": "06388f96-61dc-4a23-8eaa-5eb3e48cd2e2",
        "part": "whole"
       },
       "id": "e6418ede-5f25-437c-9b3f-913933048bc3"
      }
     }
    },
    "8c651e01-5acd-425e-8cd6-8cc11f885fba": {
     "id": "8c651e01-5acd-425e-8cd6-8cc11f885fba",
     "prev": "dae360da-8c8e-4faf-ae2f-d334b37faebf",
     "regions": {
      "e58049b8-5678-4dba-8a50-3e52396816e0": {
       "attrs": {
        "height": 0.8,
        "width": 0.8,
        "x": 0.1,
        "y": 0.1
       },
       "content": {
        "cell": "fa463762-f7bb-48e1-9588-067ec6b55eaf",
        "part": "whole"
       },
       "id": "e58049b8-5678-4dba-8a50-3e52396816e0"
      }
     }
    },
    "965c9008-46a1-43c4-989d-c4e0be2cd2cf": {
     "id": "965c9008-46a1-43c4-989d-c4e0be2cd2cf",
     "prev": "493199b6-cacb-496c-9dcb-dccc2d57295b",
     "regions": {
      "446388b4-0380-45d7-afc8-1ef13176d765": {
       "attrs": {
        "height": 0.8,
        "width": 0.8,
        "x": 0.1,
        "y": 0.1
       },
       "content": {
        "cell": "ad81a46f-760f-4d41-ad8e-c411b81aab87",
        "part": "whole"
       },
       "id": "446388b4-0380-45d7-afc8-1ef13176d765"
      }
     }
    },
    "96807ca0-5852-40eb-ae64-e2042cb8c406": {
     "id": "96807ca0-5852-40eb-ae64-e2042cb8c406",
     "prev": "ab2ab657-657a-40eb-ac2b-839887bcc25d",
     "regions": {
      "617b323d-2c53-4aed-9680-ad841f436a6e": {
       "attrs": {
        "height": 0.8,
        "width": 0.8,
        "x": 0.1,
        "y": 0.1
       },
       "content": {
        "cell": "1ebc26f8-86f8-491f-b4b8-3fd2f1c59c82",
        "part": "whole"
       },
       "id": "617b323d-2c53-4aed-9680-ad841f436a6e"
      }
     }
    },
    "96cec3f8-2ab9-4f93-9566-74636626ffc1": {
     "id": "96cec3f8-2ab9-4f93-9566-74636626ffc1",
     "prev": "11ca2b9e-77a7-42b7-99e8-ccd27d11e9cf",
     "regions": {
      "02f7dc96-a2ea-4232-93fa-55bdb48e3beb": {
       "attrs": {
        "height": 0.8,
        "width": 0.8,
        "x": 0.1,
        "y": 0.1
       },
       "content": {
        "cell": "c8d1f10d-7fc8-4301-96a9-32b46017d9c8",
        "part": "whole"
       },
       "id": "02f7dc96-a2ea-4232-93fa-55bdb48e3beb"
      }
     }
    },
    "ab2ab657-657a-40eb-ac2b-839887bcc25d": {
     "id": "ab2ab657-657a-40eb-ac2b-839887bcc25d",
     "prev": "305f6a45-b536-4aec-b51a-34fd336e3ad2",
     "regions": {
      "9df4ec6b-d78c-47c1-b5f8-ece1579ab7f8": {
       "attrs": {
        "height": 0.8,
        "width": 0.8,
        "x": 0.1,
        "y": 0.1
       },
       "content": {
        "cell": "dcbd2a47-a2df-4f1e-b23f-0a0c2d2a6f70",
        "part": "whole"
       },
       "id": "9df4ec6b-d78c-47c1-b5f8-ece1579ab7f8"
      }
     }
    },
    "ac465ff4-7b94-478f-8eba-41a24ca776ab": {
     "id": "ac465ff4-7b94-478f-8eba-41a24ca776ab",
     "prev": "b87465b8-8683-4995-b9dd-c1f9ceb7dbb9",
     "regions": {
      "4d669200-990c-4d40-881c-50359a5dbc87": {
       "attrs": {
        "height": 0.8,
        "width": 0.8,
        "x": 0.1,
        "y": 0.1
       },
       "content": {
        "cell": "40e02984-0d63-4dab-b42e-4ec3ad30ea60",
        "part": "whole"
       },
       "id": "4d669200-990c-4d40-881c-50359a5dbc87"
      }
     }
    },
    "b0b2a2db-eb03-4a4e-a86a-6219a962b022": {
     "id": "b0b2a2db-eb03-4a4e-a86a-6219a962b022",
     "prev": "6aaded3a-69e7-4963-8016-cb1eb6a51d4f",
     "regions": {
      "afaf3f52-14ad-47cf-bb44-6975065eaf2e": {
       "attrs": {
        "height": 0.8,
        "width": 0.8,
        "x": 0.1,
        "y": 0.1
       },
       "content": {
        "cell": "8dc0853b-c728-4c85-ba55-3a4c7aab3107",
        "part": "whole"
       },
       "id": "afaf3f52-14ad-47cf-bb44-6975065eaf2e"
      }
     }
    },
    "b87465b8-8683-4995-b9dd-c1f9ceb7dbb9": {
     "id": "b87465b8-8683-4995-b9dd-c1f9ceb7dbb9",
     "prev": "36767eda-5298-4c9d-8529-9db83c8f510d",
     "regions": {
      "1175afd1-18d0-4828-bb80-415edd704a54": {
       "attrs": {
        "height": 0.8,
        "width": 0.8,
        "x": 0.1,
        "y": 0.1
       },
       "content": {
        "cell": "e613c807-cdbe-4a84-92cc-2aa6a642ded5",
        "part": "whole"
       },
       "id": "1175afd1-18d0-4828-bb80-415edd704a54"
      }
     }
    },
    "bec7ca93-5b2b-4a33-a254-eeb5ef30a836": {
     "id": "bec7ca93-5b2b-4a33-a254-eeb5ef30a836",
     "prev": null,
     "regions": {
      "ff493070-54d0-41ca-8dca-363646373017": {
       "attrs": {
        "height": 0.8,
        "width": 0.8,
        "x": 0.1,
        "y": 0.1
       },
       "content": {
        "cell": "767954b6-1d48-4172-846b-55de9c7a65d2",
        "part": "whole"
       },
       "id": "ff493070-54d0-41ca-8dca-363646373017"
      }
     }
    },
    "dae360da-8c8e-4faf-ae2f-d334b37faebf": {
     "id": "dae360da-8c8e-4faf-ae2f-d334b37faebf",
     "prev": "58ab128d-0d3b-41d3-8345-be48b431748d",
     "regions": {
      "922c3d95-c4f1-4e8d-a37b-9b583ff61948": {
       "attrs": {
        "height": 0.8,
        "width": 0.8,
        "x": 0.1,
        "y": 0.1
       },
       "content": {
        "cell": "014f4b15-ffda-4c4e-867b-2fa9ffded5b1",
        "part": "whole"
       },
       "id": "922c3d95-c4f1-4e8d-a37b-9b583ff61948"
      }
     }
    },
    "e4471ed1-4b42-448d-a831-5b26ba552e24": {
     "id": "e4471ed1-4b42-448d-a831-5b26ba552e24",
     "prev": "bec7ca93-5b2b-4a33-a254-eeb5ef30a836",
     "regions": {
      "28b2a6c0-e9e9-4f23-9f53-234fb9bd34e2": {
       "attrs": {
        "height": 0.8,
        "width": 0.8,
        "x": 0.1,
        "y": 0.1
       },
       "content": {
        "cell": "e963a0dd-2c1b-44ba-98b6-39f1a0c7e374",
        "part": "whole"
       },
       "id": "28b2a6c0-e9e9-4f23-9f53-234fb9bd34e2"
      }
     }
    },
    "ec5b5c32-7d2a-441e-9b77-7d011ac4e9f7": {
     "id": "ec5b5c32-7d2a-441e-9b77-7d011ac4e9f7",
     "prev": "8c651e01-5acd-425e-8cd6-8cc11f885fba",
     "regions": {
      "135e8f10-1df4-412f-a2c0-c266576a5792": {
       "attrs": {
        "height": 0.8,
        "width": 0.8,
        "x": 0.1,
        "y": 0.1
       },
       "content": {
        "cell": "06fa4c48-cda9-4b8f-9c22-36b9b82476e6",
        "part": "whole"
       },
       "id": "135e8f10-1df4-412f-a2c0-c266576a5792"
      }
     }
    }
   },
   "themes": {
    "default": "e7ce0374-4ee9-4361-8f8e-8d31f7110948",
    "theme": {}
   }
  },
  "toc": {
   "navigate_menu": true,
   "number_sections": true,
   "sideBar": true,
   "threshold": 6,
   "toc_cell": false,
   "toc_section_display": "block",
   "toc_window_display": false
  },
  "widgets": {
   "state": {
    "0efd84a3994c4374b08844f74e1563c3": {
     "views": [
      {
       "cell_index": 36
      }
     ]
    },
    "6fd36f4914c24ca79cd81b6a0ccc5a63": {
     "views": [
      {
       "cell_index": 34
      }
     ]
    }
   },
   "version": "1.2.0"
  }
 },
 "nbformat": 4,
 "nbformat_minor": 1
}
